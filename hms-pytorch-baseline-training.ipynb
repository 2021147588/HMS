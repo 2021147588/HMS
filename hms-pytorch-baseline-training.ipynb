{
 "cells": [
  {
   "cell_type": "markdown",
   "id": "f3f4a4f0",
   "metadata": {
    "papermill": {
     "duration": 0.012401,
     "end_time": "2024-02-18T07:22:23.116813",
     "exception": false,
     "start_time": "2024-02-18T07:22:23.104412",
     "status": "completed"
    },
    "tags": []
   },
   "source": [
    "# HMS - PyTorch Baseline Training\n",
    "\n",
    "**Comments welcome!**\n",
    "\n",
    "One of my goals in this competition is to learn more PyTorch.\n",
    "\n",
    "This is a **training** notebook; the respective inference notebook is [HMS - PyTorch Baseline Inference](https://www.kaggle.com/code/morodertobias/hms-pytorch-baseline-inference) and the saved models are uploaded as a dataset [HMS - PyTorch Baseline Training Dataset](https://www.kaggle.com/datasets/morodertobias/hms-pytorch-baseline-training-dataset) to keep versions clean.\n",
    "\n",
    "Current version fine-tunes EfficientNetB0 from noisy student weights in a 5-folding manner. It uses squashed spectrograms, as already done in the reference notebooks. I try to use my way of coding, but naturally it is similar.\n",
    "\n",
    "This is just a quick-saved with additional comments, the last successful run with the weights stored in the dataset is: [Verison 3](https://www.kaggle.com/code/morodertobias/hms-pytorch-baseline-training?scriptVersionId=161574160).\n",
    "\n",
    "## References\n",
    "- [HMS baseline_resnet34d(512*512 Training 5 folds)](https://www.kaggle.com/code/yunsuxiaozi/hms-baseline-resnet34d-512-512-training-5-folds)\n",
    "- [HMS: Train EfficientNetB0](https://www.kaggle.com/code/andreasbis/hms-train-efficientnetb0/notebook)\n",
    "- [HMS-HBAC: ResNet34d Baseline [Training]](https://www.kaggle.com/code/ttahara/hms-hbac-resnet34d-baseline-training/)\n",
    "\n",
    "\n",
    "## Table of Contents\n",
    "- [Imports](#Imports)\n",
    "- [Config](#Config)\n",
    "- [Load data](#Load-data)\n",
    "- [Data Handling](#Data-Handling)\n",
    "- [Model](#Model)\n",
    "- [Training Utils](#Training-Utils)\n",
    "- [Training](#Training)\n",
    "- [OOF](#OOF)"
   ]
  },
  {
   "cell_type": "markdown",
   "id": "8e68d09c",
   "metadata": {
    "papermill": {
     "duration": 0.011603,
     "end_time": "2024-02-18T07:22:23.140349",
     "exception": false,
     "start_time": "2024-02-18T07:22:23.128746",
     "status": "completed"
    },
    "tags": []
   },
   "source": [
    "# Imports"
   ]
  },
  {
   "cell_type": "code",
   "execution_count": 1,
   "id": "c2762533",
   "metadata": {
    "execution": {
     "iopub.execute_input": "2024-02-18T07:22:23.166711Z",
     "iopub.status.busy": "2024-02-18T07:22:23.166337Z",
     "iopub.status.idle": "2024-02-18T07:22:33.144470Z",
     "shell.execute_reply": "2024-02-18T07:22:33.143458Z"
    },
    "papermill": {
     "duration": 9.994183,
     "end_time": "2024-02-18T07:22:33.147006",
     "exception": false,
     "start_time": "2024-02-18T07:22:23.152823",
     "status": "completed"
    },
    "tags": []
   },
   "outputs": [],
   "source": [
    "import os\n",
    "import pathlib\n",
    "import numpy as np\n",
    "import pandas as pd\n",
    "import matplotlib.pyplot as plt\n",
    "from tqdm.notebook import tqdm\n",
    "import torch\n",
    "import torch.nn as nn\n",
    "import torch.nn.functional as F\n",
    "import torchvision.transforms as transforms\n",
    "import torch.optim as optim\n",
    "from torch.optim.lr_scheduler import CosineAnnealingLR\n",
    "import timm"
   ]
  },
  {
   "cell_type": "markdown",
   "id": "d09ccaba",
   "metadata": {
    "papermill": {
     "duration": 0.01266,
     "end_time": "2024-02-18T07:22:33.171142",
     "exception": false,
     "start_time": "2024-02-18T07:22:33.158482",
     "status": "completed"
    },
    "tags": []
   },
   "source": [
    "# Config"
   ]
  },
  {
   "cell_type": "code",
   "execution_count": 2,
   "id": "eae3e75f",
   "metadata": {
    "execution": {
     "iopub.execute_input": "2024-02-18T07:22:33.194221Z",
     "iopub.status.busy": "2024-02-18T07:22:33.193909Z",
     "iopub.status.idle": "2024-02-18T07:22:33.199617Z",
     "shell.execute_reply": "2024-02-18T07:22:33.198780Z"
    },
    "papermill": {
     "duration": 0.019396,
     "end_time": "2024-02-18T07:22:33.201392",
     "exception": false,
     "start_time": "2024-02-18T07:22:33.181996",
     "status": "completed"
    },
    "tags": []
   },
   "outputs": [],
   "source": [
    "class CFG:\n",
    "    seed = 888\n",
    "    debug = False\n",
    "    one_fold = False\n",
    "    base_dir = pathlib.Path(\"/kaggle/input/hms-harmful-brain-activity-classification\")\n",
    "    path_train = base_dir / \"train.csv\"\n",
    "    spec_dir = base_dir / \"train_spectrograms\"\n",
    "    transform = transforms.Resize((512, 512), antialias=False)\n",
    "    model_name = \"tf_efficientnet_b0_ns\"\n",
    "    n_fold = 5\n",
    "    epochs = 10\n",
    "    batch_size = 16    \n",
    "    lr = 0.001"
   ]
  },
  {
   "cell_type": "markdown",
   "id": "1281e7cf",
   "metadata": {
    "papermill": {
     "duration": 0.010432,
     "end_time": "2024-02-18T07:22:33.222596",
     "exception": false,
     "start_time": "2024-02-18T07:22:33.212164",
     "status": "completed"
    },
    "tags": []
   },
   "source": [
    "# Load data\n",
    "- We classify the spectrogram directly.\n",
    "- As a label we use the aggregated the votes per spectrogram slice"
   ]
  },
  {
   "cell_type": "code",
   "execution_count": 3,
   "id": "9cb50e88",
   "metadata": {
    "execution": {
     "iopub.execute_input": "2024-02-18T07:22:33.245706Z",
     "iopub.status.busy": "2024-02-18T07:22:33.245390Z",
     "iopub.status.idle": "2024-02-18T07:22:33.509616Z",
     "shell.execute_reply": "2024-02-18T07:22:33.508628Z"
    },
    "papermill": {
     "duration": 0.27825,
     "end_time": "2024-02-18T07:22:33.511797",
     "exception": false,
     "start_time": "2024-02-18T07:22:33.233547",
     "status": "completed"
    },
    "tags": []
   },
   "outputs": [
    {
     "data": {
      "text/html": [
       "<div>\n",
       "<style scoped>\n",
       "    .dataframe tbody tr th:only-of-type {\n",
       "        vertical-align: middle;\n",
       "    }\n",
       "\n",
       "    .dataframe tbody tr th {\n",
       "        vertical-align: top;\n",
       "    }\n",
       "\n",
       "    .dataframe thead th {\n",
       "        text-align: right;\n",
       "    }\n",
       "</style>\n",
       "<table border=\"1\" class=\"dataframe\">\n",
       "  <thead>\n",
       "    <tr style=\"text-align: right;\">\n",
       "      <th></th>\n",
       "      <th>eeg_id</th>\n",
       "      <th>eeg_sub_id</th>\n",
       "      <th>eeg_label_offset_seconds</th>\n",
       "      <th>spectrogram_id</th>\n",
       "      <th>spectrogram_sub_id</th>\n",
       "      <th>spectrogram_label_offset_seconds</th>\n",
       "      <th>label_id</th>\n",
       "      <th>patient_id</th>\n",
       "      <th>expert_consensus</th>\n",
       "      <th>seizure_vote</th>\n",
       "      <th>lpd_vote</th>\n",
       "      <th>gpd_vote</th>\n",
       "      <th>lrda_vote</th>\n",
       "      <th>grda_vote</th>\n",
       "      <th>other_vote</th>\n",
       "    </tr>\n",
       "  </thead>\n",
       "  <tbody>\n",
       "    <tr>\n",
       "      <th>0</th>\n",
       "      <td>1628180742</td>\n",
       "      <td>0</td>\n",
       "      <td>0.0</td>\n",
       "      <td>353733</td>\n",
       "      <td>0</td>\n",
       "      <td>0.0</td>\n",
       "      <td>127492639</td>\n",
       "      <td>42516</td>\n",
       "      <td>Seizure</td>\n",
       "      <td>3</td>\n",
       "      <td>0</td>\n",
       "      <td>0</td>\n",
       "      <td>0</td>\n",
       "      <td>0</td>\n",
       "      <td>0</td>\n",
       "    </tr>\n",
       "    <tr>\n",
       "      <th>1</th>\n",
       "      <td>1628180742</td>\n",
       "      <td>1</td>\n",
       "      <td>6.0</td>\n",
       "      <td>353733</td>\n",
       "      <td>1</td>\n",
       "      <td>6.0</td>\n",
       "      <td>3887563113</td>\n",
       "      <td>42516</td>\n",
       "      <td>Seizure</td>\n",
       "      <td>3</td>\n",
       "      <td>0</td>\n",
       "      <td>0</td>\n",
       "      <td>0</td>\n",
       "      <td>0</td>\n",
       "      <td>0</td>\n",
       "    </tr>\n",
       "    <tr>\n",
       "      <th>2</th>\n",
       "      <td>1628180742</td>\n",
       "      <td>2</td>\n",
       "      <td>8.0</td>\n",
       "      <td>353733</td>\n",
       "      <td>2</td>\n",
       "      <td>8.0</td>\n",
       "      <td>1142670488</td>\n",
       "      <td>42516</td>\n",
       "      <td>Seizure</td>\n",
       "      <td>3</td>\n",
       "      <td>0</td>\n",
       "      <td>0</td>\n",
       "      <td>0</td>\n",
       "      <td>0</td>\n",
       "      <td>0</td>\n",
       "    </tr>\n",
       "    <tr>\n",
       "      <th>3</th>\n",
       "      <td>1628180742</td>\n",
       "      <td>3</td>\n",
       "      <td>18.0</td>\n",
       "      <td>353733</td>\n",
       "      <td>3</td>\n",
       "      <td>18.0</td>\n",
       "      <td>2718991173</td>\n",
       "      <td>42516</td>\n",
       "      <td>Seizure</td>\n",
       "      <td>3</td>\n",
       "      <td>0</td>\n",
       "      <td>0</td>\n",
       "      <td>0</td>\n",
       "      <td>0</td>\n",
       "      <td>0</td>\n",
       "    </tr>\n",
       "    <tr>\n",
       "      <th>4</th>\n",
       "      <td>1628180742</td>\n",
       "      <td>4</td>\n",
       "      <td>24.0</td>\n",
       "      <td>353733</td>\n",
       "      <td>4</td>\n",
       "      <td>24.0</td>\n",
       "      <td>3080632009</td>\n",
       "      <td>42516</td>\n",
       "      <td>Seizure</td>\n",
       "      <td>3</td>\n",
       "      <td>0</td>\n",
       "      <td>0</td>\n",
       "      <td>0</td>\n",
       "      <td>0</td>\n",
       "      <td>0</td>\n",
       "    </tr>\n",
       "    <tr>\n",
       "      <th>...</th>\n",
       "      <td>...</td>\n",
       "      <td>...</td>\n",
       "      <td>...</td>\n",
       "      <td>...</td>\n",
       "      <td>...</td>\n",
       "      <td>...</td>\n",
       "      <td>...</td>\n",
       "      <td>...</td>\n",
       "      <td>...</td>\n",
       "      <td>...</td>\n",
       "      <td>...</td>\n",
       "      <td>...</td>\n",
       "      <td>...</td>\n",
       "      <td>...</td>\n",
       "      <td>...</td>\n",
       "    </tr>\n",
       "    <tr>\n",
       "      <th>106795</th>\n",
       "      <td>351917269</td>\n",
       "      <td>6</td>\n",
       "      <td>12.0</td>\n",
       "      <td>2147388374</td>\n",
       "      <td>6</td>\n",
       "      <td>12.0</td>\n",
       "      <td>4195677307</td>\n",
       "      <td>10351</td>\n",
       "      <td>LRDA</td>\n",
       "      <td>0</td>\n",
       "      <td>0</td>\n",
       "      <td>0</td>\n",
       "      <td>3</td>\n",
       "      <td>0</td>\n",
       "      <td>0</td>\n",
       "    </tr>\n",
       "    <tr>\n",
       "      <th>106796</th>\n",
       "      <td>351917269</td>\n",
       "      <td>7</td>\n",
       "      <td>14.0</td>\n",
       "      <td>2147388374</td>\n",
       "      <td>7</td>\n",
       "      <td>14.0</td>\n",
       "      <td>290896675</td>\n",
       "      <td>10351</td>\n",
       "      <td>LRDA</td>\n",
       "      <td>0</td>\n",
       "      <td>0</td>\n",
       "      <td>0</td>\n",
       "      <td>3</td>\n",
       "      <td>0</td>\n",
       "      <td>0</td>\n",
       "    </tr>\n",
       "    <tr>\n",
       "      <th>106797</th>\n",
       "      <td>351917269</td>\n",
       "      <td>8</td>\n",
       "      <td>16.0</td>\n",
       "      <td>2147388374</td>\n",
       "      <td>8</td>\n",
       "      <td>16.0</td>\n",
       "      <td>461435451</td>\n",
       "      <td>10351</td>\n",
       "      <td>LRDA</td>\n",
       "      <td>0</td>\n",
       "      <td>0</td>\n",
       "      <td>0</td>\n",
       "      <td>3</td>\n",
       "      <td>0</td>\n",
       "      <td>0</td>\n",
       "    </tr>\n",
       "    <tr>\n",
       "      <th>106798</th>\n",
       "      <td>351917269</td>\n",
       "      <td>9</td>\n",
       "      <td>18.0</td>\n",
       "      <td>2147388374</td>\n",
       "      <td>9</td>\n",
       "      <td>18.0</td>\n",
       "      <td>3786213131</td>\n",
       "      <td>10351</td>\n",
       "      <td>LRDA</td>\n",
       "      <td>0</td>\n",
       "      <td>0</td>\n",
       "      <td>0</td>\n",
       "      <td>3</td>\n",
       "      <td>0</td>\n",
       "      <td>0</td>\n",
       "    </tr>\n",
       "    <tr>\n",
       "      <th>106799</th>\n",
       "      <td>351917269</td>\n",
       "      <td>10</td>\n",
       "      <td>20.0</td>\n",
       "      <td>2147388374</td>\n",
       "      <td>10</td>\n",
       "      <td>20.0</td>\n",
       "      <td>3642716176</td>\n",
       "      <td>10351</td>\n",
       "      <td>LRDA</td>\n",
       "      <td>0</td>\n",
       "      <td>0</td>\n",
       "      <td>0</td>\n",
       "      <td>3</td>\n",
       "      <td>0</td>\n",
       "      <td>0</td>\n",
       "    </tr>\n",
       "  </tbody>\n",
       "</table>\n",
       "<p>106800 rows × 15 columns</p>\n",
       "</div>"
      ],
      "text/plain": [
       "            eeg_id  eeg_sub_id  eeg_label_offset_seconds  spectrogram_id  \\\n",
       "0       1628180742           0                       0.0          353733   \n",
       "1       1628180742           1                       6.0          353733   \n",
       "2       1628180742           2                       8.0          353733   \n",
       "3       1628180742           3                      18.0          353733   \n",
       "4       1628180742           4                      24.0          353733   \n",
       "...            ...         ...                       ...             ...   \n",
       "106795   351917269           6                      12.0      2147388374   \n",
       "106796   351917269           7                      14.0      2147388374   \n",
       "106797   351917269           8                      16.0      2147388374   \n",
       "106798   351917269           9                      18.0      2147388374   \n",
       "106799   351917269          10                      20.0      2147388374   \n",
       "\n",
       "        spectrogram_sub_id  spectrogram_label_offset_seconds    label_id  \\\n",
       "0                        0                               0.0   127492639   \n",
       "1                        1                               6.0  3887563113   \n",
       "2                        2                               8.0  1142670488   \n",
       "3                        3                              18.0  2718991173   \n",
       "4                        4                              24.0  3080632009   \n",
       "...                    ...                               ...         ...   \n",
       "106795                   6                              12.0  4195677307   \n",
       "106796                   7                              14.0   290896675   \n",
       "106797                   8                              16.0   461435451   \n",
       "106798                   9                              18.0  3786213131   \n",
       "106799                  10                              20.0  3642716176   \n",
       "\n",
       "        patient_id expert_consensus  seizure_vote  lpd_vote  gpd_vote  \\\n",
       "0            42516          Seizure             3         0         0   \n",
       "1            42516          Seizure             3         0         0   \n",
       "2            42516          Seizure             3         0         0   \n",
       "3            42516          Seizure             3         0         0   \n",
       "4            42516          Seizure             3         0         0   \n",
       "...            ...              ...           ...       ...       ...   \n",
       "106795       10351             LRDA             0         0         0   \n",
       "106796       10351             LRDA             0         0         0   \n",
       "106797       10351             LRDA             0         0         0   \n",
       "106798       10351             LRDA             0         0         0   \n",
       "106799       10351             LRDA             0         0         0   \n",
       "\n",
       "        lrda_vote  grda_vote  other_vote  \n",
       "0               0          0           0  \n",
       "1               0          0           0  \n",
       "2               0          0           0  \n",
       "3               0          0           0  \n",
       "4               0          0           0  \n",
       "...           ...        ...         ...  \n",
       "106795          3          0           0  \n",
       "106796          3          0           0  \n",
       "106797          3          0           0  \n",
       "106798          3          0           0  \n",
       "106799          3          0           0  \n",
       "\n",
       "[106800 rows x 15 columns]"
      ]
     },
     "execution_count": 3,
     "metadata": {},
     "output_type": "execute_result"
    }
   ],
   "source": [
    "train_df = pd.read_csv(\"/kaggle/input/hms-harmful-brain-activity-classification/train.csv\")\n",
    "train_df"
   ]
  },
  {
   "cell_type": "code",
   "execution_count": 4,
   "id": "7e5790f1",
   "metadata": {
    "execution": {
     "iopub.execute_input": "2024-02-18T07:22:33.539313Z",
     "iopub.status.busy": "2024-02-18T07:22:33.538981Z",
     "iopub.status.idle": "2024-02-18T07:22:33.548341Z",
     "shell.execute_reply": "2024-02-18T07:22:33.547356Z"
    },
    "papermill": {
     "duration": 0.025303,
     "end_time": "2024-02-18T07:22:33.550557",
     "exception": false,
     "start_time": "2024-02-18T07:22:33.525254",
     "status": "completed"
    },
    "tags": []
   },
   "outputs": [
    {
     "data": {
      "text/plain": [
       "['seizure_vote',\n",
       " 'lpd_vote',\n",
       " 'gpd_vote',\n",
       " 'lrda_vote',\n",
       " 'grda_vote',\n",
       " 'other_vote']"
      ]
     },
     "execution_count": 4,
     "metadata": {},
     "output_type": "execute_result"
    }
   ],
   "source": [
    "label_columns = train_df.filter(like=\"_vote\").columns.to_list()\n",
    "label_columns"
   ]
  },
  {
   "cell_type": "code",
   "execution_count": 5,
   "id": "b4a14316",
   "metadata": {
    "execution": {
     "iopub.execute_input": "2024-02-18T07:22:33.577173Z",
     "iopub.status.busy": "2024-02-18T07:22:33.576611Z",
     "iopub.status.idle": "2024-02-18T07:22:33.601709Z",
     "shell.execute_reply": "2024-02-18T07:22:33.600768Z"
    },
    "papermill": {
     "duration": 0.040178,
     "end_time": "2024-02-18T07:22:33.603705",
     "exception": false,
     "start_time": "2024-02-18T07:22:33.563527",
     "status": "completed"
    },
    "tags": []
   },
   "outputs": [
    {
     "data": {
      "text/html": [
       "<div>\n",
       "<style scoped>\n",
       "    .dataframe tbody tr th:only-of-type {\n",
       "        vertical-align: middle;\n",
       "    }\n",
       "\n",
       "    .dataframe tbody tr th {\n",
       "        vertical-align: top;\n",
       "    }\n",
       "\n",
       "    .dataframe thead th {\n",
       "        text-align: right;\n",
       "    }\n",
       "</style>\n",
       "<table border=\"1\" class=\"dataframe\">\n",
       "  <thead>\n",
       "    <tr style=\"text-align: right;\">\n",
       "      <th></th>\n",
       "      <th>seizure_vote</th>\n",
       "      <th>lpd_vote</th>\n",
       "      <th>gpd_vote</th>\n",
       "      <th>lrda_vote</th>\n",
       "      <th>grda_vote</th>\n",
       "      <th>other_vote</th>\n",
       "    </tr>\n",
       "    <tr>\n",
       "      <th>spectrogram_id</th>\n",
       "      <th></th>\n",
       "      <th></th>\n",
       "      <th></th>\n",
       "      <th></th>\n",
       "      <th></th>\n",
       "      <th></th>\n",
       "    </tr>\n",
       "  </thead>\n",
       "  <tbody>\n",
       "    <tr>\n",
       "      <th>353733</th>\n",
       "      <td>27</td>\n",
       "      <td>0</td>\n",
       "      <td>0</td>\n",
       "      <td>0</td>\n",
       "      <td>0</td>\n",
       "      <td>0</td>\n",
       "    </tr>\n",
       "    <tr>\n",
       "      <th>924234</th>\n",
       "      <td>0</td>\n",
       "      <td>0</td>\n",
       "      <td>10</td>\n",
       "      <td>0</td>\n",
       "      <td>2</td>\n",
       "      <td>10</td>\n",
       "    </tr>\n",
       "    <tr>\n",
       "      <th>999431</th>\n",
       "      <td>0</td>\n",
       "      <td>11</td>\n",
       "      <td>0</td>\n",
       "      <td>154</td>\n",
       "      <td>0</td>\n",
       "      <td>11</td>\n",
       "    </tr>\n",
       "    <tr>\n",
       "      <th>1084844</th>\n",
       "      <td>0</td>\n",
       "      <td>0</td>\n",
       "      <td>0</td>\n",
       "      <td>18</td>\n",
       "      <td>0</td>\n",
       "      <td>0</td>\n",
       "    </tr>\n",
       "    <tr>\n",
       "      <th>1219001</th>\n",
       "      <td>21</td>\n",
       "      <td>0</td>\n",
       "      <td>10</td>\n",
       "      <td>0</td>\n",
       "      <td>0</td>\n",
       "      <td>0</td>\n",
       "    </tr>\n",
       "    <tr>\n",
       "      <th>...</th>\n",
       "      <td>...</td>\n",
       "      <td>...</td>\n",
       "      <td>...</td>\n",
       "      <td>...</td>\n",
       "      <td>...</td>\n",
       "      <td>...</td>\n",
       "    </tr>\n",
       "    <tr>\n",
       "      <th>2146188334</th>\n",
       "      <td>0</td>\n",
       "      <td>0</td>\n",
       "      <td>0</td>\n",
       "      <td>0</td>\n",
       "      <td>0</td>\n",
       "      <td>39</td>\n",
       "    </tr>\n",
       "    <tr>\n",
       "      <th>2146414988</th>\n",
       "      <td>0</td>\n",
       "      <td>1</td>\n",
       "      <td>0</td>\n",
       "      <td>0</td>\n",
       "      <td>0</td>\n",
       "      <td>0</td>\n",
       "    </tr>\n",
       "    <tr>\n",
       "      <th>2146798838</th>\n",
       "      <td>0</td>\n",
       "      <td>36</td>\n",
       "      <td>0</td>\n",
       "      <td>8</td>\n",
       "      <td>0</td>\n",
       "      <td>28</td>\n",
       "    </tr>\n",
       "    <tr>\n",
       "      <th>2147312808</th>\n",
       "      <td>0</td>\n",
       "      <td>15</td>\n",
       "      <td>0</td>\n",
       "      <td>0</td>\n",
       "      <td>0</td>\n",
       "      <td>0</td>\n",
       "    </tr>\n",
       "    <tr>\n",
       "      <th>2147388374</th>\n",
       "      <td>0</td>\n",
       "      <td>0</td>\n",
       "      <td>0</td>\n",
       "      <td>33</td>\n",
       "      <td>0</td>\n",
       "      <td>0</td>\n",
       "    </tr>\n",
       "  </tbody>\n",
       "</table>\n",
       "<p>11138 rows × 6 columns</p>\n",
       "</div>"
      ],
      "text/plain": [
       "                seizure_vote  lpd_vote  gpd_vote  lrda_vote  grda_vote  \\\n",
       "spectrogram_id                                                           \n",
       "353733                    27         0         0          0          0   \n",
       "924234                     0         0        10          0          2   \n",
       "999431                     0        11         0        154          0   \n",
       "1084844                    0         0         0         18          0   \n",
       "1219001                   21         0        10          0          0   \n",
       "...                      ...       ...       ...        ...        ...   \n",
       "2146188334                 0         0         0          0          0   \n",
       "2146414988                 0         1         0          0          0   \n",
       "2146798838                 0        36         0          8          0   \n",
       "2147312808                 0        15         0          0          0   \n",
       "2147388374                 0         0         0         33          0   \n",
       "\n",
       "                other_vote  \n",
       "spectrogram_id              \n",
       "353733                   0  \n",
       "924234                  10  \n",
       "999431                  11  \n",
       "1084844                  0  \n",
       "1219001                  0  \n",
       "...                    ...  \n",
       "2146188334              39  \n",
       "2146414988               0  \n",
       "2146798838              28  \n",
       "2147312808               0  \n",
       "2147388374               0  \n",
       "\n",
       "[11138 rows x 6 columns]"
      ]
     },
     "execution_count": 5,
     "metadata": {},
     "output_type": "execute_result"
    }
   ],
   "source": [
    "#data frame을 spectrogram_id column으로 묶고, label_columns에 해당하는 columns들의 값을 spectrogram id에 따라 합한다.\n",
    "data = train_df.groupby(\"spectrogram_id\")[label_columns].sum()\n",
    "data"
   ]
  },
  {
   "cell_type": "code",
   "execution_count": 6,
   "id": "ff3bdd0a",
   "metadata": {
    "execution": {
     "iopub.execute_input": "2024-02-18T07:22:33.629532Z",
     "iopub.status.busy": "2024-02-18T07:22:33.629198Z",
     "iopub.status.idle": "2024-02-18T07:22:33.640157Z",
     "shell.execute_reply": "2024-02-18T07:22:33.639335Z"
    },
    "papermill": {
     "duration": 0.025975,
     "end_time": "2024-02-18T07:22:33.642073",
     "exception": false,
     "start_time": "2024-02-18T07:22:33.616098",
     "status": "completed"
    },
    "tags": []
   },
   "outputs": [
    {
     "data": {
      "text/plain": [
       "spectrogram_id\n",
       "353733         27\n",
       "924234         22\n",
       "999431        176\n",
       "1084844        18\n",
       "1219001        31\n",
       "             ... \n",
       "2146188334     39\n",
       "2146414988      1\n",
       "2146798838     72\n",
       "2147312808     15\n",
       "2147388374     33\n",
       "Length: 11138, dtype: int64"
      ]
     },
     "execution_count": 6,
     "metadata": {},
     "output_type": "execute_result"
    }
   ],
   "source": [
    "n = data.sum(axis=1) # 각 spectrogram id의 개수를 나타낸다. \n",
    "n"
   ]
  },
  {
   "cell_type": "code",
   "execution_count": 7,
   "id": "aa543b44",
   "metadata": {
    "execution": {
     "iopub.execute_input": "2024-02-18T07:22:33.668875Z",
     "iopub.status.busy": "2024-02-18T07:22:33.668022Z",
     "iopub.status.idle": "2024-02-18T07:22:33.768898Z",
     "shell.execute_reply": "2024-02-18T07:22:33.768004Z"
    },
    "papermill": {
     "duration": 0.116828,
     "end_time": "2024-02-18T07:22:33.771136",
     "exception": false,
     "start_time": "2024-02-18T07:22:33.654308",
     "status": "completed"
    },
    "tags": []
   },
   "outputs": [
    {
     "data": {
      "text/html": [
       "<div>\n",
       "<style scoped>\n",
       "    .dataframe tbody tr th:only-of-type {\n",
       "        vertical-align: middle;\n",
       "    }\n",
       "\n",
       "    .dataframe tbody tr th {\n",
       "        vertical-align: top;\n",
       "    }\n",
       "\n",
       "    .dataframe thead th {\n",
       "        text-align: right;\n",
       "    }\n",
       "</style>\n",
       "<table border=\"1\" class=\"dataframe\">\n",
       "  <thead>\n",
       "    <tr style=\"text-align: right;\">\n",
       "      <th></th>\n",
       "      <th>spectrogram_id</th>\n",
       "      <th>seizure_vote</th>\n",
       "      <th>lpd_vote</th>\n",
       "      <th>gpd_vote</th>\n",
       "      <th>lrda_vote</th>\n",
       "      <th>grda_vote</th>\n",
       "      <th>other_vote</th>\n",
       "      <th>path</th>\n",
       "    </tr>\n",
       "  </thead>\n",
       "  <tbody>\n",
       "    <tr>\n",
       "      <th>0</th>\n",
       "      <td>353733</td>\n",
       "      <td>1.000000</td>\n",
       "      <td>0.0000</td>\n",
       "      <td>0.000000</td>\n",
       "      <td>0.000000</td>\n",
       "      <td>0.000000</td>\n",
       "      <td>0.000000</td>\n",
       "      <td>/kaggle/input/hms-harmful-brain-activity-class...</td>\n",
       "    </tr>\n",
       "    <tr>\n",
       "      <th>1</th>\n",
       "      <td>924234</td>\n",
       "      <td>0.000000</td>\n",
       "      <td>0.0000</td>\n",
       "      <td>0.454545</td>\n",
       "      <td>0.000000</td>\n",
       "      <td>0.090909</td>\n",
       "      <td>0.454545</td>\n",
       "      <td>/kaggle/input/hms-harmful-brain-activity-class...</td>\n",
       "    </tr>\n",
       "    <tr>\n",
       "      <th>2</th>\n",
       "      <td>999431</td>\n",
       "      <td>0.000000</td>\n",
       "      <td>0.0625</td>\n",
       "      <td>0.000000</td>\n",
       "      <td>0.875000</td>\n",
       "      <td>0.000000</td>\n",
       "      <td>0.062500</td>\n",
       "      <td>/kaggle/input/hms-harmful-brain-activity-class...</td>\n",
       "    </tr>\n",
       "    <tr>\n",
       "      <th>3</th>\n",
       "      <td>1084844</td>\n",
       "      <td>0.000000</td>\n",
       "      <td>0.0000</td>\n",
       "      <td>0.000000</td>\n",
       "      <td>1.000000</td>\n",
       "      <td>0.000000</td>\n",
       "      <td>0.000000</td>\n",
       "      <td>/kaggle/input/hms-harmful-brain-activity-class...</td>\n",
       "    </tr>\n",
       "    <tr>\n",
       "      <th>4</th>\n",
       "      <td>1219001</td>\n",
       "      <td>0.677419</td>\n",
       "      <td>0.0000</td>\n",
       "      <td>0.322581</td>\n",
       "      <td>0.000000</td>\n",
       "      <td>0.000000</td>\n",
       "      <td>0.000000</td>\n",
       "      <td>/kaggle/input/hms-harmful-brain-activity-class...</td>\n",
       "    </tr>\n",
       "    <tr>\n",
       "      <th>...</th>\n",
       "      <td>...</td>\n",
       "      <td>...</td>\n",
       "      <td>...</td>\n",
       "      <td>...</td>\n",
       "      <td>...</td>\n",
       "      <td>...</td>\n",
       "      <td>...</td>\n",
       "      <td>...</td>\n",
       "    </tr>\n",
       "    <tr>\n",
       "      <th>11133</th>\n",
       "      <td>2146188334</td>\n",
       "      <td>0.000000</td>\n",
       "      <td>0.0000</td>\n",
       "      <td>0.000000</td>\n",
       "      <td>0.000000</td>\n",
       "      <td>0.000000</td>\n",
       "      <td>1.000000</td>\n",
       "      <td>/kaggle/input/hms-harmful-brain-activity-class...</td>\n",
       "    </tr>\n",
       "    <tr>\n",
       "      <th>11134</th>\n",
       "      <td>2146414988</td>\n",
       "      <td>0.000000</td>\n",
       "      <td>1.0000</td>\n",
       "      <td>0.000000</td>\n",
       "      <td>0.000000</td>\n",
       "      <td>0.000000</td>\n",
       "      <td>0.000000</td>\n",
       "      <td>/kaggle/input/hms-harmful-brain-activity-class...</td>\n",
       "    </tr>\n",
       "    <tr>\n",
       "      <th>11135</th>\n",
       "      <td>2146798838</td>\n",
       "      <td>0.000000</td>\n",
       "      <td>0.5000</td>\n",
       "      <td>0.000000</td>\n",
       "      <td>0.111111</td>\n",
       "      <td>0.000000</td>\n",
       "      <td>0.388889</td>\n",
       "      <td>/kaggle/input/hms-harmful-brain-activity-class...</td>\n",
       "    </tr>\n",
       "    <tr>\n",
       "      <th>11136</th>\n",
       "      <td>2147312808</td>\n",
       "      <td>0.000000</td>\n",
       "      <td>1.0000</td>\n",
       "      <td>0.000000</td>\n",
       "      <td>0.000000</td>\n",
       "      <td>0.000000</td>\n",
       "      <td>0.000000</td>\n",
       "      <td>/kaggle/input/hms-harmful-brain-activity-class...</td>\n",
       "    </tr>\n",
       "    <tr>\n",
       "      <th>11137</th>\n",
       "      <td>2147388374</td>\n",
       "      <td>0.000000</td>\n",
       "      <td>0.0000</td>\n",
       "      <td>0.000000</td>\n",
       "      <td>1.000000</td>\n",
       "      <td>0.000000</td>\n",
       "      <td>0.000000</td>\n",
       "      <td>/kaggle/input/hms-harmful-brain-activity-class...</td>\n",
       "    </tr>\n",
       "  </tbody>\n",
       "</table>\n",
       "<p>11138 rows × 8 columns</p>\n",
       "</div>"
      ],
      "text/plain": [
       "       spectrogram_id  seizure_vote  lpd_vote  gpd_vote  lrda_vote  grda_vote  \\\n",
       "0              353733      1.000000    0.0000  0.000000   0.000000   0.000000   \n",
       "1              924234      0.000000    0.0000  0.454545   0.000000   0.090909   \n",
       "2              999431      0.000000    0.0625  0.000000   0.875000   0.000000   \n",
       "3             1084844      0.000000    0.0000  0.000000   1.000000   0.000000   \n",
       "4             1219001      0.677419    0.0000  0.322581   0.000000   0.000000   \n",
       "...               ...           ...       ...       ...        ...        ...   \n",
       "11133      2146188334      0.000000    0.0000  0.000000   0.000000   0.000000   \n",
       "11134      2146414988      0.000000    1.0000  0.000000   0.000000   0.000000   \n",
       "11135      2146798838      0.000000    0.5000  0.000000   0.111111   0.000000   \n",
       "11136      2147312808      0.000000    1.0000  0.000000   0.000000   0.000000   \n",
       "11137      2147388374      0.000000    0.0000  0.000000   1.000000   0.000000   \n",
       "\n",
       "       other_vote                                               path  \n",
       "0        0.000000  /kaggle/input/hms-harmful-brain-activity-class...  \n",
       "1        0.454545  /kaggle/input/hms-harmful-brain-activity-class...  \n",
       "2        0.062500  /kaggle/input/hms-harmful-brain-activity-class...  \n",
       "3        0.000000  /kaggle/input/hms-harmful-brain-activity-class...  \n",
       "4        0.000000  /kaggle/input/hms-harmful-brain-activity-class...  \n",
       "...           ...                                                ...  \n",
       "11133    1.000000  /kaggle/input/hms-harmful-brain-activity-class...  \n",
       "11134    0.000000  /kaggle/input/hms-harmful-brain-activity-class...  \n",
       "11135    0.388889  /kaggle/input/hms-harmful-brain-activity-class...  \n",
       "11136    0.000000  /kaggle/input/hms-harmful-brain-activity-class...  \n",
       "11137    0.000000  /kaggle/input/hms-harmful-brain-activity-class...  \n",
       "\n",
       "[11138 rows x 8 columns]"
      ]
     },
     "execution_count": 7,
     "metadata": {},
     "output_type": "execute_result"
    }
   ],
   "source": [
    "# label column에 해당하는 column을 전체 개수로 나눈다. \n",
    "for x in label_columns:\n",
    "    data[x] = data[x] / n\n",
    "# parquet의 path를 추가\n",
    "data[\"path\"] = data.index.map(lambda x: CFG.spec_dir / f\"{x}.parquet\")\n",
    "data = data.reset_index()\n",
    "data"
   ]
  },
  {
   "cell_type": "markdown",
   "id": "38ee55a9",
   "metadata": {
    "papermill": {
     "duration": 0.012502,
     "end_time": "2024-02-18T07:22:33.796332",
     "exception": false,
     "start_time": "2024-02-18T07:22:33.783830",
     "status": "completed"
    },
    "tags": []
   },
   "source": [
    "# Data Handling\n",
    "- Spectrogram is loaded, which contains spectrograms in 4 different regions.\n",
    "- All together they are clipped, log-transformed and the standardized.\n",
    "- Finally it is resized as an image.\n",
    "- Note, since the spectrograms have sometimes very different lenghts this creates a certain distortion."
   ]
  },
  {
   "cell_type": "code",
   "execution_count": 8,
   "id": "18dd0af8",
   "metadata": {
    "execution": {
     "iopub.execute_input": "2024-02-18T07:22:33.822511Z",
     "iopub.status.busy": "2024-02-18T07:22:33.822178Z",
     "iopub.status.idle": "2024-02-18T07:22:33.826245Z",
     "shell.execute_reply": "2024-02-18T07:22:33.825412Z"
    },
    "papermill": {
     "duration": 0.01964,
     "end_time": "2024-02-18T07:22:33.828446",
     "exception": false,
     "start_time": "2024-02-18T07:22:33.808806",
     "status": "completed"
    },
    "tags": []
   },
   "outputs": [],
   "source": [
    "from torch.utils.data import Dataset, DataLoader"
   ]
  },
  {
   "cell_type": "code",
   "execution_count": 9,
   "id": "39bd7143",
   "metadata": {
    "execution": {
     "iopub.execute_input": "2024-02-18T07:22:33.855198Z",
     "iopub.status.busy": "2024-02-18T07:22:33.854921Z",
     "iopub.status.idle": "2024-02-18T07:22:33.864526Z",
     "shell.execute_reply": "2024-02-18T07:22:33.863606Z"
    },
    "papermill": {
     "duration": 0.025582,
     "end_time": "2024-02-18T07:22:33.866576",
     "exception": false,
     "start_time": "2024-02-18T07:22:33.840994",
     "status": "completed"
    },
    "tags": []
   },
   "outputs": [],
   "source": [
    "#데이터 전처리 과정\n",
    "def preprocess(x):\n",
    "    # np.clip(데이터, 하한값, 상한값)인데, 데이터를 하한~상한값으로 잘라 극단적인 값을 없앰\n",
    "    x = np.clip(x, np.exp(-6), np.exp(10)) \n",
    "    x = np.log(x)# 데이터를 로그 스케일로 변환\n",
    "    m, s = x.mean(), x.std()\n",
    "    x = (x - m) / (s + 1e-6)#표준편차가 0이 되는 것을 방지\n",
    "    return x\n",
    "\n",
    "\n",
    "class SpecDataset(Dataset):\n",
    "    \n",
    "    def __init__(self, df, transform=CFG.transform):\n",
    "        self.df = df\n",
    "        self.transform = transform\n",
    "    \n",
    "    def __len__(self):\n",
    "        return len(self.df)\n",
    "    \n",
    "    def __getitem__(self, index):\n",
    "        row = self.df.iloc[index] # index번째 행을 불러옴\n",
    "        # input\n",
    "        x = pd.read_parquet(row.path)\n",
    "        x = x.fillna(-1).values[:, 1:].T # 결측값을 -1로 채운 뒤, 0번째 배열을 제외한 모든 열을 선택, transpose\n",
    "        x = preprocess(x)\n",
    "        x = torch.Tensor(x[None, :]) # 차원을 추가 후 모든 열을 선택\n",
    "        if self.transform: # transform이 있다면 수행\n",
    "            x = self.transform(x)\n",
    "        # output\n",
    "        y = np.array(row.loc[label_columns].values, 'float32')\n",
    "        y = torch.Tensor(y)\n",
    "        return x, y"
   ]
  },
  {
   "cell_type": "code",
   "execution_count": 10,
   "id": "10cc5249",
   "metadata": {
    "execution": {
     "iopub.execute_input": "2024-02-18T07:22:33.893582Z",
     "iopub.status.busy": "2024-02-18T07:22:33.893246Z",
     "iopub.status.idle": "2024-02-18T07:22:33.899239Z",
     "shell.execute_reply": "2024-02-18T07:22:33.898324Z"
    },
    "papermill": {
     "duration": 0.022051,
     "end_time": "2024-02-18T07:22:33.901618",
     "exception": false,
     "start_time": "2024-02-18T07:22:33.879567",
     "status": "completed"
    },
    "tags": []
   },
   "outputs": [
    {
     "data": {
      "text/plain": [
       "(<__main__.SpecDataset at 0x7dabffedbca0>, 50)"
      ]
     },
     "execution_count": 10,
     "metadata": {},
     "output_type": "execute_result"
    }
   ],
   "source": [
    "ds = SpecDataset(df=data.iloc[:50])\n",
    "ds, len(ds)"
   ]
  },
  {
   "cell_type": "code",
   "execution_count": 11,
   "id": "5ad39b00",
   "metadata": {
    "execution": {
     "iopub.execute_input": "2024-02-18T07:22:33.927900Z",
     "iopub.status.busy": "2024-02-18T07:22:33.927611Z",
     "iopub.status.idle": "2024-02-18T07:22:34.243271Z",
     "shell.execute_reply": "2024-02-18T07:22:34.242356Z"
    },
    "papermill": {
     "duration": 0.331153,
     "end_time": "2024-02-18T07:22:34.245412",
     "exception": false,
     "start_time": "2024-02-18T07:22:33.914259",
     "status": "completed"
    },
    "tags": []
   },
   "outputs": [
    {
     "data": {
      "text/plain": [
       "(torch.Size([1, 512, 512]),\n",
       " tensor([[[ 1.2054,  1.0713,  0.9173,  ...,  1.0850,  1.0003,  0.9526],\n",
       "          [ 1.6161,  1.3790,  1.0838,  ...,  1.1306,  1.0802,  1.0625],\n",
       "          [ 1.7601,  1.6410,  1.4847,  ...,  1.2272,  1.1640,  1.1396],\n",
       "          ...,\n",
       "          [-0.8010, -0.6403, -0.4212,  ..., -0.8658, -1.1458, -1.3737],\n",
       "          [-0.7389, -0.5765, -0.3597,  ..., -0.8116, -1.2053, -1.5185],\n",
       "          [-0.8025, -0.5923, -0.3145,  ..., -0.8211, -1.2874, -1.6645]]]),\n",
       " torch.Size([6]),\n",
       " tensor([1., 0., 0., 0., 0., 0.]))"
      ]
     },
     "execution_count": 11,
     "metadata": {},
     "output_type": "execute_result"
    }
   ],
   "source": [
    "x, y = ds[0]\n",
    "x.shape, x, y.shape, y"
   ]
  },
  {
   "cell_type": "code",
   "execution_count": 12,
   "id": "c7ea7849",
   "metadata": {
    "execution": {
     "iopub.execute_input": "2024-02-18T07:22:34.272569Z",
     "iopub.status.busy": "2024-02-18T07:22:34.272266Z",
     "iopub.status.idle": "2024-02-18T07:22:34.278538Z",
     "shell.execute_reply": "2024-02-18T07:22:34.277655Z"
    },
    "papermill": {
     "duration": 0.021993,
     "end_time": "2024-02-18T07:22:34.280406",
     "exception": false,
     "start_time": "2024-02-18T07:22:34.258413",
     "status": "completed"
    },
    "tags": []
   },
   "outputs": [
    {
     "data": {
      "text/plain": [
       "(<torch.utils.data.dataloader.DataLoader at 0x7dabffeda800>, 3)"
      ]
     },
     "execution_count": 12,
     "metadata": {},
     "output_type": "execute_result"
    }
   ],
   "source": [
    "ld = DataLoader(dataset=ds, batch_size=CFG.batch_size, drop_last=True, num_workers=os.cpu_count())\n",
    "ld, len(ld)"
   ]
  },
  {
   "cell_type": "code",
   "execution_count": 13,
   "id": "41c77c0e",
   "metadata": {
    "execution": {
     "iopub.execute_input": "2024-02-18T07:22:34.305961Z",
     "iopub.status.busy": "2024-02-18T07:22:34.305659Z",
     "iopub.status.idle": "2024-02-18T07:22:35.432608Z",
     "shell.execute_reply": "2024-02-18T07:22:35.431563Z"
    },
    "papermill": {
     "duration": 1.14227,
     "end_time": "2024-02-18T07:22:35.434869",
     "exception": false,
     "start_time": "2024-02-18T07:22:34.292599",
     "status": "completed"
    },
    "tags": []
   },
   "outputs": [
    {
     "data": {
      "text/plain": [
       "(torch.Size([16, 1, 512, 512]),\n",
       " tensor([[[[ 1.2054,  1.0713,  0.9173,  ...,  1.0850,  1.0003,  0.9526],\n",
       "           [ 1.6161,  1.3790,  1.0838,  ...,  1.1306,  1.0802,  1.0625],\n",
       "           [ 1.7601,  1.6410,  1.4847,  ...,  1.2272,  1.1640,  1.1396],\n",
       "           ...,\n",
       "           [-0.8010, -0.6403, -0.4212,  ..., -0.8658, -1.1458, -1.3737],\n",
       "           [-0.7389, -0.5765, -0.3597,  ..., -0.8116, -1.2053, -1.5185],\n",
       "           [-0.8025, -0.5923, -0.3145,  ..., -0.8211, -1.2874, -1.6645]]],\n",
       " \n",
       " \n",
       "         [[[ 1.8998,  1.8514,  1.7770,  ...,  1.5049,  1.6229,  1.6995],\n",
       "           [ 1.9068,  1.8645,  1.7993,  ...,  1.5456,  1.6550,  1.7260],\n",
       "           [ 1.9491,  1.8969,  1.8166,  ...,  1.5353,  1.6585,  1.7386],\n",
       "           ...,\n",
       "           [-0.9747, -0.9018, -0.7895,  ..., -1.1577, -1.2446, -1.3011],\n",
       "           [-0.9120, -0.8630, -0.7876,  ..., -1.2038, -1.3935, -1.5167],\n",
       "           [-0.7837, -0.7837, -0.7837,  ..., -1.0045, -1.5825, -1.9580]]],\n",
       " \n",
       " \n",
       "         [[[ 1.1971,  1.0295,  0.7975,  ...,  1.8037,  1.7129,  1.6483],\n",
       "           [ 1.2366,  1.0805,  0.8654,  ...,  1.9499,  1.9068,  1.8750],\n",
       "           [ 1.2813,  1.1252,  0.9097,  ...,  2.0437,  2.0277,  2.0146],\n",
       "           ...,\n",
       "           [-1.0368, -1.1124, -1.2150,  ..., -0.9240, -0.8996, -0.8873],\n",
       "           [-1.0519, -1.1347, -1.2499,  ..., -0.9982, -0.9050, -0.8420],\n",
       "           [-1.1381, -1.2128, -1.3164,  ..., -1.0729, -0.9514, -0.8680]]],\n",
       " \n",
       " \n",
       "         ...,\n",
       " \n",
       " \n",
       "         [[[ 0.9788,  1.0423,  1.1406,  ...,  1.7767,  1.7091,  1.6653],\n",
       "           [ 1.1609,  1.2279,  1.3315,  ...,  1.8109,  1.7035,  1.6341],\n",
       "           [ 1.3772,  1.4827,  1.6457,  ...,  1.8374,  1.7160,  1.6376],\n",
       "           ...,\n",
       "           [-0.2198, -0.1023,  0.0794,  ..., -1.4377, -1.5949, -1.6966],\n",
       "           [-0.3065, -0.2304, -0.1128,  ..., -1.5682, -1.6726, -1.7402],\n",
       "           [-0.4287, -0.4132, -0.3891,  ..., -1.7012, -1.7791, -1.8295]]],\n",
       " \n",
       " \n",
       "         [[[ 1.4438,  1.1147,  0.9715,  ...,  2.4595,  2.6458,  2.8392],\n",
       "           [ 1.4435,  1.3294,  1.2357,  ...,  2.4934,  2.7007,  2.9403],\n",
       "           [ 1.4979,  1.4562,  1.3421,  ...,  2.4829,  2.6558,  2.9099],\n",
       "           ...,\n",
       "           [-1.1870, -1.4237, -1.5971,  ..., -0.2285, -0.2885, -0.4028],\n",
       "           [-1.0606, -1.4722, -1.6042,  ..., -0.2568, -0.4040, -0.7028],\n",
       "           [-0.9042, -1.4032, -1.4283,  ..., -0.3501, -0.4608, -0.7910]]],\n",
       " \n",
       " \n",
       "         [[[ 0.7603,  0.7803,  0.8293,  ..., -2.9957, -2.9957, -2.9957],\n",
       "           [ 0.9706,  0.9545,  0.9573,  ..., -2.9957, -2.9957, -2.9957],\n",
       "           [ 1.0825,  1.0745,  1.0805,  ..., -2.9957, -2.9957, -2.9957],\n",
       "           ...,\n",
       "           [-0.7404, -0.3246,  0.1890,  ..., -2.9957, -2.9957, -2.9957],\n",
       "           [-0.6276, -0.2734,  0.1568,  ..., -2.9957, -2.9957, -2.9957],\n",
       "           [-0.4840, -0.1846,  0.1560,  ..., -2.9957, -2.9957, -2.9957]]]]),\n",
       " torch.Size([16, 6]),\n",
       " tensor([[1.0000, 0.0000, 0.0000, 0.0000, 0.0000, 0.0000],\n",
       "         [0.0000, 0.0000, 0.4545, 0.0000, 0.0909, 0.4545],\n",
       "         [0.0000, 0.0625, 0.0000, 0.8750, 0.0000, 0.0625],\n",
       "         [0.0000, 0.0000, 0.0000, 1.0000, 0.0000, 0.0000],\n",
       "         [0.6774, 0.0000, 0.3226, 0.0000, 0.0000, 0.0000],\n",
       "         [0.0000, 0.0000, 0.3571, 0.0000, 0.0000, 0.6429],\n",
       "         [0.0000, 0.0000, 0.1333, 0.0000, 0.0000, 0.8667],\n",
       "         [0.2500, 0.2500, 0.0000, 0.5000, 0.0000, 0.0000],\n",
       "         [0.0000, 0.0000, 0.0000, 0.3333, 0.0000, 0.6667],\n",
       "         [0.0000, 0.0000, 0.1500, 0.0000, 0.6750, 0.1750],\n",
       "         [0.0000, 0.0000, 0.0000, 0.0000, 1.0000, 0.0000],\n",
       "         [0.0000, 0.2000, 0.0000, 0.0000, 0.0000, 0.8000],\n",
       "         [0.0000, 0.0000, 0.0000, 0.0000, 0.0000, 1.0000],\n",
       "         [0.0000, 0.0000, 0.0000, 1.0000, 0.0000, 0.0000],\n",
       "         [0.0000, 0.0000, 0.0000, 0.0000, 0.0000, 1.0000],\n",
       "         [0.0000, 0.0000, 0.1667, 0.0000, 0.6667, 0.1667]]))"
      ]
     },
     "execution_count": 13,
     "metadata": {},
     "output_type": "execute_result"
    }
   ],
   "source": [
    "x, y = next(iter(ld))\n",
    "x.shape, x, y.shape, y"
   ]
  },
  {
   "cell_type": "markdown",
   "id": "9eb1d96a",
   "metadata": {
    "papermill": {
     "duration": 0.012769,
     "end_time": "2024-02-18T07:22:35.460547",
     "exception": false,
     "start_time": "2024-02-18T07:22:35.447778",
     "status": "completed"
    },
    "tags": []
   },
   "source": [
    "# Model"
   ]
  },
  {
   "cell_type": "code",
   "execution_count": 14,
   "id": "69fff8c3",
   "metadata": {
    "execution": {
     "iopub.execute_input": "2024-02-18T07:22:35.488277Z",
     "iopub.status.busy": "2024-02-18T07:22:35.487716Z",
     "iopub.status.idle": "2024-02-18T07:22:35.564461Z",
     "shell.execute_reply": "2024-02-18T07:22:35.563564Z"
    },
    "papermill": {
     "duration": 0.092802,
     "end_time": "2024-02-18T07:22:35.566420",
     "exception": false,
     "start_time": "2024-02-18T07:22:35.473618",
     "status": "completed"
    },
    "tags": []
   },
   "outputs": [
    {
     "name": "stdout",
     "output_type": "stream",
     "text": [
      "DEVICE: cuda\n"
     ]
    }
   ],
   "source": [
    "DEVICE = \"cuda\" if torch.cuda.is_available() else \"cpu\"\n",
    "print(f\"DEVICE: {DEVICE}\")"
   ]
  },
  {
   "cell_type": "code",
   "execution_count": 15,
   "id": "1595a5a3",
   "metadata": {
    "execution": {
     "iopub.execute_input": "2024-02-18T07:22:35.593002Z",
     "iopub.status.busy": "2024-02-18T07:22:35.592350Z",
     "iopub.status.idle": "2024-02-18T07:22:35.598012Z",
     "shell.execute_reply": "2024-02-18T07:22:35.597169Z"
    },
    "papermill": {
     "duration": 0.020862,
     "end_time": "2024-02-18T07:22:35.599887",
     "exception": false,
     "start_time": "2024-02-18T07:22:35.579025",
     "status": "completed"
    },
    "tags": []
   },
   "outputs": [
    {
     "data": {
      "text/plain": [
       "0"
      ]
     },
     "execution_count": 15,
     "metadata": {},
     "output_type": "execute_result"
    }
   ],
   "source": [
    "# 할당된 메모리 양 확인\n",
    "torch.cuda.memory_allocated()"
   ]
  },
  {
   "cell_type": "code",
   "execution_count": 16,
   "id": "4c959aa8",
   "metadata": {
    "execution": {
     "iopub.execute_input": "2024-02-18T07:22:35.626525Z",
     "iopub.status.busy": "2024-02-18T07:22:35.625795Z",
     "iopub.status.idle": "2024-02-18T07:22:36.704786Z",
     "shell.execute_reply": "2024-02-18T07:22:36.703468Z"
    },
    "papermill": {
     "duration": 1.094831,
     "end_time": "2024-02-18T07:22:36.707254",
     "exception": false,
     "start_time": "2024-02-18T07:22:35.612423",
     "status": "completed"
    },
    "tags": []
   },
   "outputs": [
    {
     "name": "stderr",
     "output_type": "stream",
     "text": [
      "/opt/conda/lib/python3.10/site-packages/timm/models/_factory.py:117: UserWarning: Mapping deprecated model name tf_efficientnet_b0_ns to current tf_efficientnet_b0.ns_jft_in1k.\n",
      "  model = create_fn(\n"
     ]
    },
    {
     "data": {
      "application/vnd.jupyter.widget-view+json": {
       "model_id": "7dedbdbbb4d1486383b530f978776a10",
       "version_major": 2,
       "version_minor": 0
      },
      "text/plain": [
       "model.safetensors:   0%|          | 0.00/21.4M [00:00<?, ?B/s]"
      ]
     },
     "metadata": {},
     "output_type": "display_data"
    },
    {
     "name": "stdout",
     "output_type": "stream",
     "text": [
      "Model has 4014658 parameters.\n"
     ]
    }
   ],
   "source": [
    "# pretrained된 모델을 불러옴\n",
    "model = timm.create_model(model_name=CFG.model_name, pretrained=True, num_classes=6, in_chans=1)\n",
    "model.to(DEVICE)\n",
    "num_parameter = sum(x.numel() for x in model.parameters())\n",
    "print(f\"Model has {num_parameter} parameters.\")"
   ]
  },
  {
   "cell_type": "code",
   "execution_count": 17,
   "id": "7c51b057",
   "metadata": {
    "execution": {
     "iopub.execute_input": "2024-02-18T07:22:36.742012Z",
     "iopub.status.busy": "2024-02-18T07:22:36.741588Z",
     "iopub.status.idle": "2024-02-18T07:22:37.987258Z",
     "shell.execute_reply": "2024-02-18T07:22:37.986309Z"
    },
    "papermill": {
     "duration": 1.266684,
     "end_time": "2024-02-18T07:22:37.989537",
     "exception": false,
     "start_time": "2024-02-18T07:22:36.722853",
     "status": "completed"
    },
    "tags": []
   },
   "outputs": [
    {
     "data": {
      "text/plain": [
       "tensor([[ 0.2999, -4.0431, -0.5702,  0.1073, -3.0633, -2.4262],\n",
       "        [-0.3760, -1.7042, -1.4584, -0.5718,  3.4008, -0.0498],\n",
       "        [-5.0199, -0.7434, -1.3510,  0.7812,  0.1362, -0.6503],\n",
       "        [-0.3046, -1.4623, -0.2989, -0.4120,  0.1605, -1.1544],\n",
       "        [-0.5352, -0.4791, -0.1311,  0.6894,  1.4193,  0.7561],\n",
       "        [-0.5000,  1.9279, -0.1230,  0.3023,  1.1977,  1.4002],\n",
       "        [ 0.5245, -0.7269,  0.0982,  0.0063,  0.4017,  0.0906],\n",
       "        [ 0.4476, -0.3200, -2.8000,  1.0312,  0.1529, -1.1858],\n",
       "        [-1.0779, -2.2137, -1.0679,  0.4127,  0.9357, -0.4939],\n",
       "        [-0.4356, -1.4117, -1.0345,  0.3104,  0.0214, -0.8664],\n",
       "        [-4.2029,  0.1144, -1.0960,  2.0125, -0.0881, -0.3767],\n",
       "        [-0.1313, -1.7955, -0.7537,  0.1534,  0.1826, -0.9321],\n",
       "        [ 1.7528, -0.6548, -1.1638, -0.5216,  1.1650,  0.2021],\n",
       "        [ 0.5694, -0.9056, -0.4122, -0.0230, -1.7966, -1.0683],\n",
       "        [-0.7466,  0.5304,  0.3279, -0.1537, -0.9317,  0.3318],\n",
       "        [-0.6858, -0.6658, -2.7490,  0.8039, -0.2556,  1.9573]],\n",
       "       device='cuda:0', grad_fn=<AddmmBackward0>)"
      ]
     },
     "execution_count": 17,
     "metadata": {},
     "output_type": "execute_result"
    }
   ],
   "source": [
    "y_out = model(x.to(DEVICE))\n",
    "y_out"
   ]
  },
  {
   "cell_type": "markdown",
   "id": "2eeb6df9",
   "metadata": {
    "papermill": {
     "duration": 0.01331,
     "end_time": "2024-02-18T07:22:38.016413",
     "exception": false,
     "start_time": "2024-02-18T07:22:38.003103",
     "status": "completed"
    },
    "tags": []
   },
   "source": [
    "# Training Utils\n",
    "- Create Kullback-Leibler Divergence loss from logits.\n",
    "- Compute loss utility."
   ]
  },
  {
   "cell_type": "markdown",
   "id": "98dd27b5",
   "metadata": {
    "papermill": {
     "duration": 0.013745,
     "end_time": "2024-02-18T07:22:38.044344",
     "exception": false,
     "start_time": "2024-02-18T07:22:38.030599",
     "status": "completed"
    },
    "tags": []
   },
   "source": [
    "### KL-Divergence\n",
    "- 두 분포가 얼마나 다른지 비교\n",
    "- P: 실제 확률 분포, Q: 예측한 확률 분포\n",
    "\n",
    "<img src=\"https://img1.daumcdn.net/thumb/R1280x0/?scode=mtistory2&fname=https%3A%2F%2Fblog.kakaocdn.net%2Fdn%2Fd6kB8E%2FbtqXrCVgLLY%2FUsC62uOertsM4hkvtJYqIK%2Fimg.png\" width=\"50%\">\n",
    "\n",
    "<img src=\"https://img1.daumcdn.net/thumb/R1280x0/?scode=mtistory2&fname=https%3A%2F%2Fblog.kakaocdn.net%2Fdn%2FDGr9U%2FbtqXwcCouUA%2FtLDjjqttMk1BUcbH9ajsD0%2Fimg.png\" width=\"50%\">"
   ]
  },
  {
   "cell_type": "code",
   "execution_count": 18,
   "id": "505699c7",
   "metadata": {
    "execution": {
     "iopub.execute_input": "2024-02-18T07:22:38.072672Z",
     "iopub.status.busy": "2024-02-18T07:22:38.071927Z",
     "iopub.status.idle": "2024-02-18T07:22:38.076898Z",
     "shell.execute_reply": "2024-02-18T07:22:38.076041Z"
    },
    "papermill": {
     "duration": 0.021033,
     "end_time": "2024-02-18T07:22:38.078736",
     "exception": false,
     "start_time": "2024-02-18T07:22:38.057703",
     "status": "completed"
    },
    "tags": []
   },
   "outputs": [],
   "source": [
    "# 손실 함수 설정\n",
    "# 활성화 함수: log softmax\n",
    "def KLDivLoss(logit, target):\n",
    "    log_prob = F.log_softmax(logit, dim=1) # 예측한 확률 값\n",
    "    return F.kl_div(log_prob, target, reduction=\"batchmean\")"
   ]
  },
  {
   "cell_type": "code",
   "execution_count": 19,
   "id": "68efabdb",
   "metadata": {
    "execution": {
     "iopub.execute_input": "2024-02-18T07:22:38.106026Z",
     "iopub.status.busy": "2024-02-18T07:22:38.105546Z",
     "iopub.status.idle": "2024-02-18T07:22:38.110795Z",
     "shell.execute_reply": "2024-02-18T07:22:38.109851Z"
    },
    "papermill": {
     "duration": 0.020966,
     "end_time": "2024-02-18T07:22:38.112693",
     "exception": false,
     "start_time": "2024-02-18T07:22:38.091727",
     "status": "completed"
    },
    "tags": []
   },
   "outputs": [],
   "source": [
    "# from reference\n",
    "def KL_loss(p,q):\n",
    "    epsilon=10**(-15)\n",
    "    p = torch.clip(p,epsilon,1-epsilon)\n",
    "    q = nn.functional.log_softmax(q,dim=1)\n",
    "    return torch.mean(torch.sum(p*(torch.log(p)-q),dim=1))"
   ]
  },
  {
   "cell_type": "code",
   "execution_count": 20,
   "id": "65dd063b",
   "metadata": {
    "execution": {
     "iopub.execute_input": "2024-02-18T07:22:38.142712Z",
     "iopub.status.busy": "2024-02-18T07:22:38.142415Z",
     "iopub.status.idle": "2024-02-18T07:22:38.325826Z",
     "shell.execute_reply": "2024-02-18T07:22:38.324692Z"
    },
    "papermill": {
     "duration": 0.201345,
     "end_time": "2024-02-18T07:22:38.328056",
     "exception": false,
     "start_time": "2024-02-18T07:22:38.126711",
     "status": "completed"
    },
    "tags": []
   },
   "outputs": [
    {
     "data": {
      "text/plain": [
       "(tensor(1.5545, device='cuda:0', grad_fn=<DivBackward0>),\n",
       " tensor(1.5545, device='cuda:0', grad_fn=<MeanBackward0>))"
      ]
     },
     "execution_count": 20,
     "metadata": {},
     "output_type": "execute_result"
    }
   ],
   "source": [
    "KLDivLoss(y_out, y.to(DEVICE)), KL_loss(p=y.to(DEVICE), q=y_out)"
   ]
  },
  {
   "cell_type": "code",
   "execution_count": 21,
   "id": "12bb9b14",
   "metadata": {
    "execution": {
     "iopub.execute_input": "2024-02-18T07:22:38.360708Z",
     "iopub.status.busy": "2024-02-18T07:22:38.360391Z",
     "iopub.status.idle": "2024-02-18T07:22:38.365932Z",
     "shell.execute_reply": "2024-02-18T07:22:38.365172Z"
    },
    "papermill": {
     "duration": 0.023947,
     "end_time": "2024-02-18T07:22:38.367837",
     "exception": false,
     "start_time": "2024-02-18T07:22:38.343890",
     "status": "completed"
    },
    "tags": []
   },
   "outputs": [],
   "source": [
    "# 손실함수 계산\n",
    "def compute_loss(model, data_loader):\n",
    "    model.eval()\n",
    "    l_loss = []\n",
    "    with torch.no_grad():\n",
    "        for x, y in data_loader:\n",
    "            y_pred = model(x.to(DEVICE))\n",
    "            loss = KLDivLoss(y_pred, y.to(DEVICE))\n",
    "            l_loss.append(loss.item())\n",
    "    return np.mean(l_loss) "
   ]
  },
  {
   "cell_type": "code",
   "execution_count": 22,
   "id": "b780b45c",
   "metadata": {
    "execution": {
     "iopub.execute_input": "2024-02-18T07:22:38.395932Z",
     "iopub.status.busy": "2024-02-18T07:22:38.395640Z",
     "iopub.status.idle": "2024-02-18T07:22:39.717237Z",
     "shell.execute_reply": "2024-02-18T07:22:39.716084Z"
    },
    "papermill": {
     "duration": 1.338367,
     "end_time": "2024-02-18T07:22:39.719622",
     "exception": false,
     "start_time": "2024-02-18T07:22:38.381255",
     "status": "completed"
    },
    "tags": []
   },
   "outputs": [
    {
     "data": {
      "text/plain": [
       "3.21042537689209"
      ]
     },
     "execution_count": 22,
     "metadata": {},
     "output_type": "execute_result"
    }
   ],
   "source": [
    "compute_loss(model,ld)"
   ]
  },
  {
   "cell_type": "code",
   "execution_count": 23,
   "id": "8a090a77",
   "metadata": {
    "execution": {
     "iopub.execute_input": "2024-02-18T07:22:39.792600Z",
     "iopub.status.busy": "2024-02-18T07:22:39.792205Z",
     "iopub.status.idle": "2024-02-18T07:22:39.798847Z",
     "shell.execute_reply": "2024-02-18T07:22:39.797999Z"
    },
    "papermill": {
     "duration": 0.024433,
     "end_time": "2024-02-18T07:22:39.800846",
     "exception": false,
     "start_time": "2024-02-18T07:22:39.776413",
     "status": "completed"
    },
    "tags": []
   },
   "outputs": [
    {
     "data": {
      "text/plain": [
       "7405274624"
      ]
     },
     "execution_count": 23,
     "metadata": {},
     "output_type": "execute_result"
    }
   ],
   "source": [
    "torch.cuda.memory_allocated()"
   ]
  },
  {
   "cell_type": "code",
   "execution_count": 24,
   "id": "6a592617",
   "metadata": {
    "execution": {
     "iopub.execute_input": "2024-02-18T07:22:39.829692Z",
     "iopub.status.busy": "2024-02-18T07:22:39.829411Z",
     "iopub.status.idle": "2024-02-18T07:22:39.843025Z",
     "shell.execute_reply": "2024-02-18T07:22:39.842329Z"
    },
    "papermill": {
     "duration": 0.030484,
     "end_time": "2024-02-18T07:22:39.844950",
     "exception": false,
     "start_time": "2024-02-18T07:22:39.814466",
     "status": "completed"
    },
    "tags": []
   },
   "outputs": [],
   "source": [
    "#cuda memory 해제\n",
    "del model, x, y, y_out\n",
    "torch.cuda.empty_cache()"
   ]
  },
  {
   "cell_type": "code",
   "execution_count": 25,
   "id": "2b5e8be0",
   "metadata": {
    "execution": {
     "iopub.execute_input": "2024-02-18T07:22:39.874043Z",
     "iopub.status.busy": "2024-02-18T07:22:39.873775Z",
     "iopub.status.idle": "2024-02-18T07:22:39.879670Z",
     "shell.execute_reply": "2024-02-18T07:22:39.878833Z"
    },
    "papermill": {
     "duration": 0.02243,
     "end_time": "2024-02-18T07:22:39.881611",
     "exception": false,
     "start_time": "2024-02-18T07:22:39.859181",
     "status": "completed"
    },
    "tags": []
   },
   "outputs": [
    {
     "data": {
      "text/plain": [
       "7405249536"
      ]
     },
     "execution_count": 25,
     "metadata": {},
     "output_type": "execute_result"
    }
   ],
   "source": [
    "torch.cuda.memory_allocated()"
   ]
  },
  {
   "cell_type": "markdown",
   "id": "d125f86f",
   "metadata": {
    "papermill": {
     "duration": 0.013524,
     "end_time": "2024-02-18T07:22:39.909196",
     "exception": false,
     "start_time": "2024-02-18T07:22:39.895672",
     "status": "completed"
    },
    "tags": []
   },
   "source": [
    "# Training\n",
    "- Uses plain 5 fold training strategy.\n",
    "- Runs for all epochs and checkpoints model weights if the validation loss improves."
   ]
  },
  {
   "cell_type": "code",
   "execution_count": 26,
   "id": "fab150b7",
   "metadata": {
    "execution": {
     "iopub.execute_input": "2024-02-18T07:22:39.940558Z",
     "iopub.status.busy": "2024-02-18T07:22:39.939880Z",
     "iopub.status.idle": "2024-02-18T07:22:41.436592Z",
     "shell.execute_reply": "2024-02-18T07:22:41.435577Z"
    },
    "papermill": {
     "duration": 1.515218,
     "end_time": "2024-02-18T07:22:41.438946",
     "exception": false,
     "start_time": "2024-02-18T07:22:39.923728",
     "status": "completed"
    },
    "tags": []
   },
   "outputs": [],
   "source": [
    "from sklearn.model_selection import KFold"
   ]
  },
  {
   "cell_type": "code",
   "execution_count": 27,
   "id": "7d43c90b",
   "metadata": {
    "execution": {
     "iopub.execute_input": "2024-02-18T07:22:41.469892Z",
     "iopub.status.busy": "2024-02-18T07:22:41.469287Z",
     "iopub.status.idle": "2024-02-18T07:22:41.474052Z",
     "shell.execute_reply": "2024-02-18T07:22:41.473192Z"
    },
    "papermill": {
     "duration": 0.022522,
     "end_time": "2024-02-18T07:22:41.476132",
     "exception": false,
     "start_time": "2024-02-18T07:22:41.453610",
     "status": "completed"
    },
    "tags": []
   },
   "outputs": [],
   "source": [
    "if CFG.debug:\n",
    "    data = data.iloc[:400]"
   ]
  },
  {
   "cell_type": "markdown",
   "id": "717e5be3",
   "metadata": {
    "papermill": {
     "duration": 0.013911,
     "end_time": "2024-02-18T07:22:41.503959",
     "exception": false,
     "start_time": "2024-02-18T07:22:41.490048",
     "status": "completed"
    },
    "tags": []
   },
   "source": [
    "### K-fold validation\n",
    "\n",
    "- 표본을 재추출하여 모델 학습\n",
    "- train 데이터를 k개로 나눈 뒤 한번씩 돌아가면서 k개만큼 나눈 데이터중 한개를 test data로 사용하고 나머지를 train으로 사용함. \n",
    "\n",
    "<img src=\"https://velog.velcdn.com/images/pppanghyun/post/2a39921c-be87-4c53-ba92-3e5c4c06699d/image.png\" width=\"80%\">\n"
   ]
  },
  {
   "attachments": {
    "5348d287-7a61-42a0-9282-4a95f9d2d880.png": {
     "image/png": "[encoded data removed]"
    }
   },
   "cell_type": "markdown",
   "id": "ba04b56e",
   "metadata": {
    "papermill": {
     "duration": 0.014243,
     "end_time": "2024-02-18T07:22:41.533669",
     "exception": false,
     "start_time": "2024-02-18T07:22:41.519426",
     "status": "completed"
    },
    "tags": []
   },
   "source": [
    "### AdamW\n",
    "\n",
    "- 가중치 업데이트 이후 weight decay를 적용하는 기법\n",
    "\n",
    "![image.png](attachment:5348d287-7a61-42a0-9282-4a95f9d2d880.png)"
   ]
  },
  {
   "cell_type": "markdown",
   "id": "e855f224",
   "metadata": {
    "papermill": {
     "duration": 0.01439,
     "end_time": "2024-02-18T07:22:41.562808",
     "exception": false,
     "start_time": "2024-02-18T07:22:41.548418",
     "status": "completed"
    },
    "tags": []
   },
   "source": [
    "### CosineAnnealingLR\n",
    "- Learning rate가 코사인 함수 주기에 따라 감소하고 증가한다. \n",
    "\n",
    "<img src=\"https://img1.daumcdn.net/thumb/R1280x0/?scode=mtistory2&fname=https%3A%2F%2Fblog.kakaocdn.net%2Fdn%2Fr9CJJ%2FbtriX9rt1XG%2Fa8uW9YF5Zm0LsIBnFaoAKK%2Fimg.png\" width=\"50%\"/>"
   ]
  },
  {
   "cell_type": "code",
   "execution_count": 28,
   "id": "8f7c97b1",
   "metadata": {
    "execution": {
     "iopub.execute_input": "2024-02-18T07:22:41.592794Z",
     "iopub.status.busy": "2024-02-18T07:22:41.592424Z",
     "iopub.status.idle": "2024-02-18T10:59:01.440796Z",
     "shell.execute_reply": "2024-02-18T10:59:01.439693Z"
    },
    "papermill": {
     "duration": 12979.866885,
     "end_time": "2024-02-18T10:59:01.443880",
     "exception": false,
     "start_time": "2024-02-18T07:22:41.576995",
     "status": "completed"
    },
    "tags": []
   },
   "outputs": [
    {
     "name": "stdout",
     "output_type": "stream",
     "text": [
      "Fold 0:\n"
     ]
    },
    {
     "name": "stderr",
     "output_type": "stream",
     "text": [
      "/opt/conda/lib/python3.10/site-packages/timm/models/_factory.py:117: UserWarning: Mapping deprecated model name tf_efficientnet_b0_ns to current tf_efficientnet_b0.ns_jft_in1k.\n",
      "  model = create_fn(\n"
     ]
    },
    {
     "data": {
      "application/vnd.jupyter.widget-view+json": {
       "model_id": "ffdc6653135343f987bfba586dcdd122",
       "version_major": 2,
       "version_minor": 0
      },
      "text/plain": [
       "  0%|          | 0/10 [00:00<?, ?it/s]"
      ]
     },
     "metadata": {},
     "output_type": "display_data"
    },
    {
     "name": "stdout",
     "output_type": "stream",
     "text": [
      "Epoch 0\n",
      "Train Loss:   0.923069, Valid Loss:   0.724359\n",
      "Loss improves from        inf to   0.724359\n",
      "Epoch 1\n",
      "Train Loss:   0.664255, Valid Loss:   0.629559\n",
      "Loss improves from   0.724359 to   0.629559\n",
      "Epoch 2\n",
      "Train Loss:   0.562615, Valid Loss:   0.617583\n",
      "Loss improves from   0.629559 to   0.617583\n",
      "Epoch 3\n",
      "Train Loss:   0.500094, Valid Loss:   0.633246\n",
      "Epoch 4\n",
      "Train Loss:   0.447865, Valid Loss:   0.604507\n",
      "Loss improves from   0.617583 to   0.604507\n",
      "Epoch 5\n",
      "Train Loss:   0.389341, Valid Loss:   0.638917\n",
      "Epoch 6\n",
      "Train Loss:   0.344269, Valid Loss:    0.69842\n",
      "Epoch 7\n",
      "Train Loss:   0.296675, Valid Loss:    0.88318\n",
      "Epoch 8\n",
      "Train Loss:   0.267250, Valid Loss:   0.791814\n",
      "Epoch 9\n",
      "Train Loss:   0.224898, Valid Loss:   0.712158\n",
      "\n",
      "Best loss Model training with 0.6045066952705384\n",
      "\n"
     ]
    },
    {
     "data": {
      "image/png": "[encoded data removed]",
      "text/plain": [
       "<Figure size 1400x600 with 2 Axes>"
      ]
     },
     "metadata": {},
     "output_type": "display_data"
    },
    {
     "name": "stdout",
     "output_type": "stream",
     "text": [
      "Fold 1:\n"
     ]
    },
    {
     "name": "stderr",
     "output_type": "stream",
     "text": [
      "/opt/conda/lib/python3.10/site-packages/timm/models/_factory.py:117: UserWarning: Mapping deprecated model name tf_efficientnet_b0_ns to current tf_efficientnet_b0.ns_jft_in1k.\n",
      "  model = create_fn(\n"
     ]
    },
    {
     "data": {
      "application/vnd.jupyter.widget-view+json": {
       "model_id": "375e3d9b80954bdab17e1826190349ba",
       "version_major": 2,
       "version_minor": 0
      },
      "text/plain": [
       "  0%|          | 0/10 [00:00<?, ?it/s]"
      ]
     },
     "metadata": {},
     "output_type": "display_data"
    },
    {
     "name": "stdout",
     "output_type": "stream",
     "text": [
      "Epoch 0\n",
      "Train Loss:   0.890724, Valid Loss:   0.765894\n",
      "Loss improves from        inf to   0.765894\n",
      "Epoch 1\n",
      "Train Loss:   0.640723, Valid Loss:    0.62629\n",
      "Loss improves from   0.765894 to    0.62629\n",
      "Epoch 2\n",
      "Train Loss:   0.554123, Valid Loss:    0.65238\n",
      "Epoch 3\n",
      "Train Loss:   0.498212, Valid Loss:   0.624255\n",
      "Loss improves from   0.626290 to   0.624255\n",
      "Epoch 4\n",
      "Train Loss:   0.437870, Valid Loss:   0.650013\n",
      "Epoch 5\n",
      "Train Loss:   0.377503, Valid Loss:   0.630624\n",
      "Epoch 6\n",
      "Train Loss:   0.324238, Valid Loss:   0.732168\n",
      "Epoch 7\n",
      "Train Loss:   0.288440, Valid Loss:   0.722179\n",
      "Epoch 8\n",
      "Train Loss:   0.258438, Valid Loss:   0.707458\n",
      "Epoch 9\n",
      "Train Loss:   0.218018, Valid Loss:   0.737115\n",
      "\n",
      "Best loss Model training with 0.6242548458278179\n",
      "\n"
     ]
    },
    {
     "data": {
      "image/png": "[encoded data removed]",
      "text/plain": [
       "<Figure size 1400x600 with 2 Axes>"
      ]
     },
     "metadata": {},
     "output_type": "display_data"
    },
    {
     "name": "stdout",
     "output_type": "stream",
     "text": [
      "Fold 2:\n"
     ]
    },
    {
     "name": "stderr",
     "output_type": "stream",
     "text": [
      "/opt/conda/lib/python3.10/site-packages/timm/models/_factory.py:117: UserWarning: Mapping deprecated model name tf_efficientnet_b0_ns to current tf_efficientnet_b0.ns_jft_in1k.\n",
      "  model = create_fn(\n"
     ]
    },
    {
     "data": {
      "application/vnd.jupyter.widget-view+json": {
       "model_id": "ab41fc8bd6a54d41bba6b74fed1ce9fe",
       "version_major": 2,
       "version_minor": 0
      },
      "text/plain": [
       "  0%|          | 0/10 [00:00<?, ?it/s]"
      ]
     },
     "metadata": {},
     "output_type": "display_data"
    },
    {
     "name": "stdout",
     "output_type": "stream",
     "text": [
      "Epoch 0\n",
      "Train Loss:   0.919267, Valid Loss:   0.792671\n",
      "Loss improves from        inf to   0.792671\n",
      "Epoch 1\n",
      "Train Loss:   0.652935, Valid Loss:   0.631441\n",
      "Loss improves from   0.792671 to   0.631441\n",
      "Epoch 2\n",
      "Train Loss:   0.558142, Valid Loss:   0.588802\n",
      "Loss improves from   0.631441 to   0.588802\n",
      "Epoch 3\n",
      "Train Loss:   0.497696, Valid Loss:   0.592151\n",
      "Epoch 4\n",
      "Train Loss:   0.439769, Valid Loss:   0.622153\n",
      "Epoch 5\n",
      "Train Loss:   0.383591, Valid Loss:   0.629822\n",
      "Epoch 6\n",
      "Train Loss:   0.339764, Valid Loss:   0.704555\n",
      "Epoch 7\n",
      "Train Loss:   0.297722, Valid Loss:   0.588253\n",
      "Loss improves from   0.588802 to   0.588253\n",
      "Epoch 8\n",
      "Train Loss:   0.249602, Valid Loss:   0.657698\n",
      "Epoch 9\n",
      "Train Loss:   0.225703, Valid Loss:    0.68701\n",
      "\n",
      "Best loss Model training with 0.588252646795341\n",
      "\n"
     ]
    },
    {
     "data": {
      "image/png": "[encoded data removed]",
      "text/plain": [
       "<Figure size 1400x600 with 2 Axes>"
      ]
     },
     "metadata": {},
     "output_type": "display_data"
    },
    {
     "name": "stdout",
     "output_type": "stream",
     "text": [
      "Fold 3:\n"
     ]
    },
    {
     "name": "stderr",
     "output_type": "stream",
     "text": [
      "/opt/conda/lib/python3.10/site-packages/timm/models/_factory.py:117: UserWarning: Mapping deprecated model name tf_efficientnet_b0_ns to current tf_efficientnet_b0.ns_jft_in1k.\n",
      "  model = create_fn(\n"
     ]
    },
    {
     "data": {
      "application/vnd.jupyter.widget-view+json": {
       "model_id": "785ff36ec11b48b7b390997be80c9bb7",
       "version_major": 2,
       "version_minor": 0
      },
      "text/plain": [
       "  0%|          | 0/10 [00:00<?, ?it/s]"
      ]
     },
     "metadata": {},
     "output_type": "display_data"
    },
    {
     "name": "stdout",
     "output_type": "stream",
     "text": [
      "Epoch 0\n",
      "Train Loss:   0.916792, Valid Loss:    0.70412\n",
      "Loss improves from        inf to    0.70412\n",
      "Epoch 1\n",
      "Train Loss:   0.638395, Valid Loss:   0.604832\n",
      "Loss improves from   0.704120 to   0.604832\n",
      "Epoch 2\n",
      "Train Loss:   0.553950, Valid Loss:   0.728161\n",
      "Epoch 3\n",
      "Train Loss:   0.504948, Valid Loss:   0.660723\n",
      "Epoch 4\n",
      "Train Loss:   0.439211, Valid Loss:   0.682509\n",
      "Epoch 5\n",
      "Train Loss:   0.383459, Valid Loss:   0.675133\n",
      "Epoch 6\n",
      "Train Loss:   0.326471, Valid Loss:   0.681298\n",
      "Epoch 7\n",
      "Train Loss:   0.281684, Valid Loss:   0.686799\n",
      "Epoch 8\n",
      "Train Loss:   0.248891, Valid Loss:   0.667795\n",
      "Epoch 9\n",
      "Train Loss:   0.213583, Valid Loss:    0.67583\n",
      "\n",
      "Best loss Model training with 0.6048323668539524\n",
      "\n"
     ]
    },
    {
     "data": {
      "image/png": "[encoded data removed]",
      "text/plain": [
       "<Figure size 1400x600 with 2 Axes>"
      ]
     },
     "metadata": {},
     "output_type": "display_data"
    },
    {
     "name": "stdout",
     "output_type": "stream",
     "text": [
      "Fold 4:\n"
     ]
    },
    {
     "name": "stderr",
     "output_type": "stream",
     "text": [
      "/opt/conda/lib/python3.10/site-packages/timm/models/_factory.py:117: UserWarning: Mapping deprecated model name tf_efficientnet_b0_ns to current tf_efficientnet_b0.ns_jft_in1k.\n",
      "  model = create_fn(\n"
     ]
    },
    {
     "data": {
      "application/vnd.jupyter.widget-view+json": {
       "model_id": "3117a67b38ce4cf3905a9b8b5bb1e9c3",
       "version_major": 2,
       "version_minor": 0
      },
      "text/plain": [
       "  0%|          | 0/10 [00:00<?, ?it/s]"
      ]
     },
     "metadata": {},
     "output_type": "display_data"
    },
    {
     "name": "stdout",
     "output_type": "stream",
     "text": [
      "Epoch 0\n",
      "Train Loss:   0.935900, Valid Loss:   0.686056\n",
      "Loss improves from        inf to   0.686056\n",
      "Epoch 1\n",
      "Train Loss:   0.638662, Valid Loss:   0.599348\n",
      "Loss improves from   0.686056 to   0.599348\n",
      "Epoch 2\n",
      "Train Loss:   0.552367, Valid Loss:   0.612588\n",
      "Epoch 3\n",
      "Train Loss:   0.488656, Valid Loss:   0.605343\n",
      "Epoch 4\n",
      "Train Loss:   0.440808, Valid Loss:   0.572867\n",
      "Loss improves from   0.599348 to   0.572867\n",
      "Epoch 5\n",
      "Train Loss:   0.377543, Valid Loss:   0.644575\n",
      "Epoch 6\n",
      "Train Loss:   0.340148, Valid Loss:   0.629765\n",
      "Epoch 7\n",
      "Train Loss:   0.293957, Valid Loss:   0.655571\n",
      "Epoch 8\n",
      "Train Loss:   0.253701, Valid Loss:   0.646737\n",
      "Epoch 9\n",
      "Train Loss:   0.227738, Valid Loss:   0.697859\n",
      "\n",
      "Best loss Model training with 0.572866662378822\n",
      "\n"
     ]
    },
    {
     "data": {
      "image/png": "[encoded data removed]",
      "text/plain": [
       "<Figure size 1400x600 with 2 Axes>"
      ]
     },
     "metadata": {},
     "output_type": "display_data"
    },
    {
     "name": "stdout",
     "output_type": "stream",
     "text": [
      "CPU times: user 2h 47min 10s, sys: 4min 47s, total: 2h 51min 57s\n",
      "Wall time: 3h 36min 19s\n"
     ]
    }
   ],
   "source": [
    "%%time \n",
    "\n",
    "kf = KFold(n_splits=CFG.n_fold, shuffle=True, random_state=CFG.seed) # k-fold 기법 사용\n",
    "\n",
    "l_best_loss = []\n",
    "for fold, (iloc_train, iloc_valid) in enumerate(kf.split(data)):\n",
    "    print(f\"Fold {fold}:\")\n",
    "\n",
    "    # prepare data\n",
    "    train_ds = SpecDataset(df=data.iloc[iloc_train])\n",
    "    valid_ds = SpecDataset(df=data.iloc[iloc_valid])\n",
    "    train_loader = DataLoader(dataset=train_ds, shuffle=True, batch_size=CFG.batch_size, num_workers=os.cpu_count(), drop_last=True)\n",
    "    valid_loader = DataLoader(dataset=valid_ds, batch_size=CFG.batch_size, num_workers=os.cpu_count())\n",
    "    \n",
    "    # init training\n",
    "    model = timm.create_model(model_name=CFG.model_name, pretrained=True, num_classes=6, in_chans=1)\n",
    "    model.to(DEVICE)\n",
    "    optimizer = optim.AdamW(model.parameters(), lr=CFG.lr) # optimizer: AdamW\n",
    "    scheduler = CosineAnnealingLR(optimizer=optimizer, T_max=CFG.epochs) # learning rate scheduler\n",
    "    optimizer, scheduler\n",
    "    best_loss = float(\"inf\")\n",
    "    history = []\n",
    "    \n",
    "    # run training\n",
    "    for epoch in tqdm(range(CFG.epochs)):\n",
    "        model.train()\n",
    "        l_loss = []\n",
    "        for x, y in train_loader:\n",
    "            x, y = x.to(DEVICE), y.to(DEVICE)\n",
    "            y_pred = model(x)\n",
    "            loss = KLDivLoss(y_pred, y)\n",
    "            l_loss.append(loss.item())\n",
    "            loss.backward()\n",
    "            optimizer.step()\n",
    "            optimizer.zero_grad()\n",
    "        train_loss = np.mean(l_loss)\n",
    "        valid_loss = compute_loss(model, valid_loader)\n",
    "        history.append((epoch, train_loss, valid_loss))\n",
    "        print(f\"Epoch {epoch}\")\n",
    "        print(f\"Train Loss: {train_loss:>10.6f}, Valid Loss: {valid_loss:>10.6}\")\n",
    "        if valid_loss < best_loss:\n",
    "            print(f\"Loss improves from {best_loss:>10.6f} to {valid_loss:>10.6}\")\n",
    "            torch.save(model.state_dict(), f\"{CFG.model_name}__{fold}.pt\")\n",
    "            best_loss = valid_loss\n",
    "    print(f\"\\nBest loss Model training with {best_loss}\\n\")\n",
    "    l_best_loss.append(best_loss)\n",
    "    \n",
    "    # plot\n",
    "    history = pd.DataFrame(history, columns=[\"epoch\", \"loss\", \"val_loss\"]).set_index(\"epoch\")\n",
    "    history.plot(subplots=True, layout=(1, 2), sharey=\"row\", figsize=(14, 6))\n",
    "    plt.show()\n",
    "    \n",
    "    if CFG.one_fold:\n",
    "        break"
   ]
  },
  {
   "cell_type": "markdown",
   "id": "231f2f37",
   "metadata": {
    "papermill": {
     "duration": 0.024683,
     "end_time": "2024-02-18T10:59:01.493751",
     "exception": false,
     "start_time": "2024-02-18T10:59:01.469068",
     "status": "completed"
    },
    "tags": []
   },
   "source": [
    "# OOF"
   ]
  },
  {
   "cell_type": "code",
   "execution_count": 29,
   "id": "45101d47",
   "metadata": {
    "execution": {
     "iopub.execute_input": "2024-02-18T10:59:01.544083Z",
     "iopub.status.busy": "2024-02-18T10:59:01.543746Z",
     "iopub.status.idle": "2024-02-18T10:59:01.550681Z",
     "shell.execute_reply": "2024-02-18T10:59:01.549739Z"
    },
    "papermill": {
     "duration": 0.034405,
     "end_time": "2024-02-18T10:59:01.552905",
     "exception": false,
     "start_time": "2024-02-18T10:59:01.518500",
     "status": "completed"
    },
    "tags": []
   },
   "outputs": [
    {
     "data": {
      "text/plain": [
       "([0.6045066952705384,\n",
       "  0.6242548458278179,\n",
       "  0.588252646795341,\n",
       "  0.6048323668539524,\n",
       "  0.572866662378822],\n",
       " 0.5989426434252944)"
      ]
     },
     "execution_count": 29,
     "metadata": {},
     "output_type": "execute_result"
    }
   ],
   "source": [
    "l_best_loss, np.mean(l_best_loss)"
   ]
  },
  {
   "cell_type": "code",
   "execution_count": 30,
   "id": "e0533e60",
   "metadata": {
    "execution": {
     "iopub.execute_input": "2024-02-18T10:59:01.601587Z",
     "iopub.status.busy": "2024-02-18T10:59:01.601258Z",
     "iopub.status.idle": "2024-02-18T10:59:01.756286Z",
     "shell.execute_reply": "2024-02-18T10:59:01.755255Z"
    },
    "papermill": {
     "duration": 0.181903,
     "end_time": "2024-02-18T10:59:01.758755",
     "exception": false,
     "start_time": "2024-02-18T10:59:01.576852",
     "status": "completed"
    },
    "tags": []
   },
   "outputs": [
    {
     "data": {
      "text/plain": [
       "<All keys matched successfully>"
      ]
     },
     "execution_count": 30,
     "metadata": {},
     "output_type": "execute_result"
    }
   ],
   "source": [
    "PATH = '/kaggle/'\n",
    "torch.save(model.state_dict(), PATH + 'model_tf_efficientnet_b0_ns_CosineAnnealingLR_schedule_with_adamW_.pth')  # 모델 객체의 state_dict 저장\n",
    "model.load_state_dict(torch.load(PATH + 'model_tf_efficientnet_b0_ns_CosineAnnealingLR_schedule_with_adamW_.pth'))"
   ]
  }
 ],
 "metadata": {
  "kaggle": {
   "accelerator": "nvidiaTeslaT4",
   "dataSources": [
    {
     "databundleVersionId": 7469972,
     "sourceId": 59093,
     "sourceType": "competition"
    }
   ],
   "dockerImageVersionId": 30646,
   "isGpuEnabled": true,
   "isInternetEnabled": true,
   "language": "python",
   "sourceType": "notebook"
  },
  "kernelspec": {
   "display_name": "Python 3",
   "language": "python",
   "name": "python3"
  },
  "language_info": {
   "codemirror_mode": {
    "name": "ipython",
    "version": 3
   },
   "file_extension": ".py",
   "mimetype": "text/x-python",
   "name": "python",
   "nbconvert_exporter": "python",
   "pygments_lexer": "ipython3",
   "version": "3.10.13"
  },
  "papermill": {
   "default_parameters": {},
   "duration": 13004.854183,
   "end_time": "2024-02-18T10:59:04.880403",
   "environment_variables": {},
   "exception": null,
   "input_path": "__notebook__.ipynb",
   "output_path": "__notebook__.ipynb",
   "parameters": {},
   "start_time": "2024-02-18T07:22:20.026220",
   "version": "2.5.0"
  },
  "widgets": {
   "application/vnd.jupyter.widget-state+json": {
    "state": {
     "0413a9b48c83446f842224adda663682": {
      "model_module": "@jupyter-widgets/base",
      "model_module_version": "1.2.0",
      "model_name": "LayoutModel",
      "state": {
       "_model_module": "@jupyter-widgets/base",
       "_model_module_version": "1.2.0",
       "_model_name": "LayoutModel",
       "_view_count": null,
       "_view_module": "@jupyter-widgets/base",
       "_view_module_version": "1.2.0",
       "_view_name": "LayoutView",
       "align_content": null,
       "align_items": null,
       "align_self": null,
       "border": null,
       "bottom": null,
       "display": null,
       "flex": null,
       "flex_flow": null,
       "grid_area": null,
       "grid_auto_columns": null,
       "grid_auto_flow": null,
       "grid_auto_rows": null,
       "grid_column": null,
       "grid_gap": null,
       "grid_row": null,
       "grid_template_areas": null,
       "grid_template_columns": null,
       "grid_template_rows": null,
       "height": null,
       "justify_content": null,
       "justify_items": null,
       "left": null,
       "margin": null,
       "max_height": null,
       "max_width": null,
       "min_height": null,
       "min_width": null,
       "object_fit": null,
       "object_position": null,
       "order": null,
       "overflow": null,
       "overflow_x": null,
       "overflow_y": null,
       "padding": null,
       "right": null,
       "top": null,
       "visibility": null,
       "width": null
      }
     },
     "0479d53802064cfbaf8e7444bc813d0a": {
      "model_module": "@jupyter-widgets/base",
      "model_module_version": "1.2.0",
      "model_name": "LayoutModel",
      "state": {
       "_model_module": "@jupyter-widgets/base",
       "_model_module_version": "1.2.0",
       "_model_name": "LayoutModel",
       "_view_count": null,
       "_view_module": "@jupyter-widgets/base",
       "_view_module_version": "1.2.0",
       "_view_name": "LayoutView",
       "align_content": null,
       "align_items": null,
       "align_self": null,
       "border": null,
       "bottom": null,
       "display": null,
       "flex": null,
       "flex_flow": null,
       "grid_area": null,
       "grid_auto_columns": null,
       "grid_auto_flow": null,
       "grid_auto_rows": null,
       "grid_column": null,
       "grid_gap": null,
       "grid_row": null,
       "grid_template_areas": null,
       "grid_template_columns": null,
       "grid_template_rows": null,
       "height": null,
       "justify_content": null,
       "justify_items": null,
       "left": null,
       "margin": null,
       "max_height": null,
       "max_width": null,
       "min_height": null,
       "min_width": null,
       "object_fit": null,
       "object_position": null,
       "order": null,
       "overflow": null,
       "overflow_x": null,
       "overflow_y": null,
       "padding": null,
       "right": null,
       "top": null,
       "visibility": null,
       "width": null
      }
     },
     "095fb0ecc3444ecbbf61d2f51e237798": {
      "model_module": "@jupyter-widgets/controls",
      "model_module_version": "1.5.0",
      "model_name": "DescriptionStyleModel",
      "state": {
       "_model_module": "@jupyter-widgets/controls",
       "_model_module_version": "1.5.0",
       "_model_name": "DescriptionStyleModel",
       "_view_count": null,
       "_view_module": "@jupyter-widgets/base",
       "_view_module_version": "1.2.0",
       "_view_name": "StyleView",
       "description_width": ""
      }
     },
     "097fe6d307eb4a1c93fdb9b7293062f2": {
      "model_module": "@jupyter-widgets/controls",
      "model_module_version": "1.5.0",
      "model_name": "HTMLModel",
      "state": {
       "_dom_classes": [],
       "_model_module": "@jupyter-widgets/controls",
       "_model_module_version": "1.5.0",
       "_model_name": "HTMLModel",
       "_view_count": null,
       "_view_module": "@jupyter-widgets/controls",
       "_view_module_version": "1.5.0",
       "_view_name": "HTMLView",
       "description": "",
       "description_tooltip": null,
       "layout": "IPY_MODEL_256f63384fbd4b78896f13ff46f79f64",
       "placeholder": "​",
       "style": "IPY_MODEL_095fb0ecc3444ecbbf61d2f51e237798",
       "value": " 10/10 [43:20&lt;00:00, 260.04s/it]"
      }
     },
     "0ba4132672a34a47b5b1ac1a694b8fe2": {
      "model_module": "@jupyter-widgets/controls",
      "model_module_version": "1.5.0",
      "model_name": "DescriptionStyleModel",
      "state": {
       "_model_module": "@jupyter-widgets/controls",
       "_model_module_version": "1.5.0",
       "_model_name": "DescriptionStyleModel",
       "_view_count": null,
       "_view_module": "@jupyter-widgets/base",
       "_view_module_version": "1.2.0",
       "_view_name": "StyleView",
       "description_width": ""
      }
     },
     "127372f5517c47c2b4fbf3e86b21025e": {
      "model_module": "@jupyter-widgets/base",
      "model_module_version": "1.2.0",
      "model_name": "LayoutModel",
      "state": {
       "_model_module": "@jupyter-widgets/base",
       "_model_module_version": "1.2.0",
       "_model_name": "LayoutModel",
       "_view_count": null,
       "_view_module": "@jupyter-widgets/base",
       "_view_module_version": "1.2.0",
       "_view_name": "LayoutView",
       "align_content": null,
       "align_items": null,
       "align_self": null,
       "border": null,
       "bottom": null,
       "display": null,
       "flex": null,
       "flex_flow": null,
       "grid_area": null,
       "grid_auto_columns": null,
       "grid_auto_flow": null,
       "grid_auto_rows": null,
       "grid_column": null,
       "grid_gap": null,
       "grid_row": null,
       "grid_template_areas": null,
       "grid_template_columns": null,
       "grid_template_rows": null,
       "height": null,
       "justify_content": null,
       "justify_items": null,
       "left": null,
       "margin": null,
       "max_height": null,
       "max_width": null,
       "min_height": null,
       "min_width": null,
       "object_fit": null,
       "object_position": null,
       "order": null,
       "overflow": null,
       "overflow_x": null,
       "overflow_y": null,
       "padding": null,
       "right": null,
       "top": null,
       "visibility": null,
       "width": null
      }
     },
     "1b79e7b7978d4f6ead1275f7a84868ed": {
      "model_module": "@jupyter-widgets/base",
      "model_module_version": "1.2.0",
      "model_name": "LayoutModel",
      "state": {
       "_model_module": "@jupyter-widgets/base",
       "_model_module_version": "1.2.0",
       "_model_name": "LayoutModel",
       "_view_count": null,
       "_view_module": "@jupyter-widgets/base",
       "_view_module_version": "1.2.0",
       "_view_name": "LayoutView",
       "align_content": null,
       "align_items": null,
       "align_self": null,
       "border": null,
       "bottom": null,
       "display": null,
       "flex": null,
       "flex_flow": null,
       "grid_area": null,
       "grid_auto_columns": null,
       "grid_auto_flow": null,
       "grid_auto_rows": null,
       "grid_column": null,
       "grid_gap": null,
       "grid_row": null,
       "grid_template_areas": null,
       "grid_template_columns": null,
       "grid_template_rows": null,
       "height": null,
       "justify_content": null,
       "justify_items": null,
       "left": null,
       "margin": null,
       "max_height": null,
       "max_width": null,
       "min_height": null,
       "min_width": null,
       "object_fit": null,
       "object_position": null,
       "order": null,
       "overflow": null,
       "overflow_x": null,
       "overflow_y": null,
       "padding": null,
       "right": null,
       "top": null,
       "visibility": null,
       "width": null
      }
     },
     "1e194fe6355a4dd8b76f184cccb4107b": {
      "model_module": "@jupyter-widgets/controls",
      "model_module_version": "1.5.0",
      "model_name": "DescriptionStyleModel",
      "state": {
       "_model_module": "@jupyter-widgets/controls",
       "_model_module_version": "1.5.0",
       "_model_name": "DescriptionStyleModel",
       "_view_count": null,
       "_view_module": "@jupyter-widgets/base",
       "_view_module_version": "1.2.0",
       "_view_name": "StyleView",
       "description_width": ""
      }
     },
     "1e584c29f8f140dda0ec2bb1b0657cb6": {
      "model_module": "@jupyter-widgets/controls",
      "model_module_version": "1.5.0",
      "model_name": "HTMLModel",
      "state": {
       "_dom_classes": [],
       "_model_module": "@jupyter-widgets/controls",
       "_model_module_version": "1.5.0",
       "_model_name": "HTMLModel",
       "_view_count": null,
       "_view_module": "@jupyter-widgets/controls",
       "_view_module_version": "1.5.0",
       "_view_name": "HTMLView",
       "description": "",
       "description_tooltip": null,
       "layout": "IPY_MODEL_af82bc7a21c141ac91d094d711201f02",
       "placeholder": "​",
       "style": "IPY_MODEL_77f95507c4ad43ff936eb1b7aa027e9f",
       "value": "model.safetensors: 100%"
      }
     },
     "224cc33a50204cf48bf71154f2b8555c": {
      "model_module": "@jupyter-widgets/base",
      "model_module_version": "1.2.0",
      "model_name": "LayoutModel",
      "state": {
       "_model_module": "@jupyter-widgets/base",
       "_model_module_version": "1.2.0",
       "_model_name": "LayoutModel",
       "_view_count": null,
       "_view_module": "@jupyter-widgets/base",
       "_view_module_version": "1.2.0",
       "_view_name": "LayoutView",
       "align_content": null,
       "align_items": null,
       "align_self": null,
       "border": null,
       "bottom": null,
       "display": null,
       "flex": null,
       "flex_flow": null,
       "grid_area": null,
       "grid_auto_columns": null,
       "grid_auto_flow": null,
       "grid_auto_rows": null,
       "grid_column": null,
       "grid_gap": null,
       "grid_row": null,
       "grid_template_areas": null,
       "grid_template_columns": null,
       "grid_template_rows": null,
       "height": null,
       "justify_content": null,
       "justify_items": null,
       "left": null,
       "margin": null,
       "max_height": null,
       "max_width": null,
       "min_height": null,
       "min_width": null,
       "object_fit": null,
       "object_position": null,
       "order": null,
       "overflow": null,
       "overflow_x": null,
       "overflow_y": null,
       "padding": null,
       "right": null,
       "top": null,
       "visibility": null,
       "width": null
      }
     },
     "256f63384fbd4b78896f13ff46f79f64": {
      "model_module": "@jupyter-widgets/base",
      "model_module_version": "1.2.0",
      "model_name": "LayoutModel",
      "state": {
       "_model_module": "@jupyter-widgets/base",
       "_model_module_version": "1.2.0",
       "_model_name": "LayoutModel",
       "_view_count": null,
       "_view_module": "@jupyter-widgets/base",
       "_view_module_version": "1.2.0",
       "_view_name": "LayoutView",
       "align_content": null,
       "align_items": null,
       "align_self": null,
       "border": null,
       "bottom": null,
       "display": null,
       "flex": null,
       "flex_flow": null,
       "grid_area": null,
       "grid_auto_columns": null,
       "grid_auto_flow": null,
       "grid_auto_rows": null,
       "grid_column": null,
       "grid_gap": null,
       "grid_row": null,
       "grid_template_areas": null,
       "grid_template_columns": null,
       "grid_template_rows": null,
       "height": null,
       "justify_content": null,
       "justify_items": null,
       "left": null,
       "margin": null,
       "max_height": null,
       "max_width": null,
       "min_height": null,
       "min_width": null,
       "object_fit": null,
       "object_position": null,
       "order": null,
       "overflow": null,
       "overflow_x": null,
       "overflow_y": null,
       "padding": null,
       "right": null,
       "top": null,
       "visibility": null,
       "width": null
      }
     },
     "2d93ed846564434fbbf86b4533578d1d": {
      "model_module": "@jupyter-widgets/controls",
      "model_module_version": "1.5.0",
      "model_name": "HTMLModel",
      "state": {
       "_dom_classes": [],
       "_model_module": "@jupyter-widgets/controls",
       "_model_module_version": "1.5.0",
       "_model_name": "HTMLModel",
       "_view_count": null,
       "_view_module": "@jupyter-widgets/controls",
       "_view_module_version": "1.5.0",
       "_view_name": "HTMLView",
       "description": "",
       "description_tooltip": null,
       "layout": "IPY_MODEL_928ee9ad769e4bcc80ed71f556305c1e",
       "placeholder": "​",
       "style": "IPY_MODEL_510e1bb937b34b0a98f0b25b5b1a38ad",
       "value": "100%"
      }
     },
     "30c43dc6efba4298ae2df3646349fd4d": {
      "model_module": "@jupyter-widgets/controls",
      "model_module_version": "1.5.0",
      "model_name": "HTMLModel",
      "state": {
       "_dom_classes": [],
       "_model_module": "@jupyter-widgets/controls",
       "_model_module_version": "1.5.0",
       "_model_name": "HTMLModel",
       "_view_count": null,
       "_view_module": "@jupyter-widgets/controls",
       "_view_module_version": "1.5.0",
       "_view_name": "HTMLView",
       "description": "",
       "description_tooltip": null,
       "layout": "IPY_MODEL_3570af575363480ba97beeb2f9f4e809",
       "placeholder": "​",
       "style": "IPY_MODEL_0ba4132672a34a47b5b1ac1a694b8fe2",
       "value": "100%"
      }
     },
     "3117a67b38ce4cf3905a9b8b5bb1e9c3": {
      "model_module": "@jupyter-widgets/controls",
      "model_module_version": "1.5.0",
      "model_name": "HBoxModel",
      "state": {
       "_dom_classes": [],
       "_model_module": "@jupyter-widgets/controls",
       "_model_module_version": "1.5.0",
       "_model_name": "HBoxModel",
       "_view_count": null,
       "_view_module": "@jupyter-widgets/controls",
       "_view_module_version": "1.5.0",
       "_view_name": "HBoxView",
       "box_style": "",
       "children": [
        "IPY_MODEL_baba3ceedea14d54aa273ead1e4de9fb",
        "IPY_MODEL_8a613021259448758db47b6b3099d9e9",
        "IPY_MODEL_ee3ffcb3837741e5805f63dd41993313"
       ],
       "layout": "IPY_MODEL_d5e3a424405b475f8baf2dfa32eec879"
      }
     },
     "325ec4baf3124d2ba3beb985a87d15dc": {
      "model_module": "@jupyter-widgets/controls",
      "model_module_version": "1.5.0",
      "model_name": "ProgressStyleModel",
      "state": {
       "_model_module": "@jupyter-widgets/controls",
       "_model_module_version": "1.5.0",
       "_model_name": "ProgressStyleModel",
       "_view_count": null,
       "_view_module": "@jupyter-widgets/base",
       "_view_module_version": "1.2.0",
       "_view_name": "StyleView",
       "bar_color": null,
       "description_width": ""
      }
     },
     "3570af575363480ba97beeb2f9f4e809": {
      "model_module": "@jupyter-widgets/base",
      "model_module_version": "1.2.0",
      "model_name": "LayoutModel",
      "state": {
       "_model_module": "@jupyter-widgets/base",
       "_model_module_version": "1.2.0",
       "_model_name": "LayoutModel",
       "_view_count": null,
       "_view_module": "@jupyter-widgets/base",
       "_view_module_version": "1.2.0",
       "_view_name": "LayoutView",
       "align_content": null,
       "align_items": null,
       "align_self": null,
       "border": null,
       "bottom": null,
       "display": null,
       "flex": null,
       "flex_flow": null,
       "grid_area": null,
       "grid_auto_columns": null,
       "grid_auto_flow": null,
       "grid_auto_rows": null,
       "grid_column": null,
       "grid_gap": null,
       "grid_row": null,
       "grid_template_areas": null,
       "grid_template_columns": null,
       "grid_template_rows": null,
       "height": null,
       "justify_content": null,
       "justify_items": null,
       "left": null,
       "margin": null,
       "max_height": null,
       "max_width": null,
       "min_height": null,
       "min_width": null,
       "object_fit": null,
       "object_position": null,
       "order": null,
       "overflow": null,
       "overflow_x": null,
       "overflow_y": null,
       "padding": null,
       "right": null,
       "top": null,
       "visibility": null,
       "width": null
      }
     },
     "3615828f3fa943b1bb9d9ce646d836b7": {
      "model_module": "@jupyter-widgets/controls",
      "model_module_version": "1.5.0",
      "model_name": "DescriptionStyleModel",
      "state": {
       "_model_module": "@jupyter-widgets/controls",
       "_model_module_version": "1.5.0",
       "_model_name": "DescriptionStyleModel",
       "_view_count": null,
       "_view_module": "@jupyter-widgets/base",
       "_view_module_version": "1.2.0",
       "_view_name": "StyleView",
       "description_width": ""
      }
     },
     "361f68ac7d994cfdbf89e4d6f58cd67b": {
      "model_module": "@jupyter-widgets/base",
      "model_module_version": "1.2.0",
      "model_name": "LayoutModel",
      "state": {
       "_model_module": "@jupyter-widgets/base",
       "_model_module_version": "1.2.0",
       "_model_name": "LayoutModel",
       "_view_count": null,
       "_view_module": "@jupyter-widgets/base",
       "_view_module_version": "1.2.0",
       "_view_name": "LayoutView",
       "align_content": null,
       "align_items": null,
       "align_self": null,
       "border": null,
       "bottom": null,
       "display": null,
       "flex": null,
       "flex_flow": null,
       "grid_area": null,
       "grid_auto_columns": null,
       "grid_auto_flow": null,
       "grid_auto_rows": null,
       "grid_column": null,
       "grid_gap": null,
       "grid_row": null,
       "grid_template_areas": null,
       "grid_template_columns": null,
       "grid_template_rows": null,
       "height": null,
       "justify_content": null,
       "justify_items": null,
       "left": null,
       "margin": null,
       "max_height": null,
       "max_width": null,
       "min_height": null,
       "min_width": null,
       "object_fit": null,
       "object_position": null,
       "order": null,
       "overflow": null,
       "overflow_x": null,
       "overflow_y": null,
       "padding": null,
       "right": null,
       "top": null,
       "visibility": null,
       "width": null
      }
     },
     "36397822f8a247bc984d72606cfeb34f": {
      "model_module": "@jupyter-widgets/base",
      "model_module_version": "1.2.0",
      "model_name": "LayoutModel",
      "state": {
       "_model_module": "@jupyter-widgets/base",
       "_model_module_version": "1.2.0",
       "_model_name": "LayoutModel",
       "_view_count": null,
       "_view_module": "@jupyter-widgets/base",
       "_view_module_version": "1.2.0",
       "_view_name": "LayoutView",
       "align_content": null,
       "align_items": null,
       "align_self": null,
       "border": null,
       "bottom": null,
       "display": null,
       "flex": null,
       "flex_flow": null,
       "grid_area": null,
       "grid_auto_columns": null,
       "grid_auto_flow": null,
       "grid_auto_rows": null,
       "grid_column": null,
       "grid_gap": null,
       "grid_row": null,
       "grid_template_areas": null,
       "grid_template_columns": null,
       "grid_template_rows": null,
       "height": null,
       "justify_content": null,
       "justify_items": null,
       "left": null,
       "margin": null,
       "max_height": null,
       "max_width": null,
       "min_height": null,
       "min_width": null,
       "object_fit": null,
       "object_position": null,
       "order": null,
       "overflow": null,
       "overflow_x": null,
       "overflow_y": null,
       "padding": null,
       "right": null,
       "top": null,
       "visibility": null,
       "width": null
      }
     },
     "3748249574af4a8fa733385412834aaf": {
      "model_module": "@jupyter-widgets/controls",
      "model_module_version": "1.5.0",
      "model_name": "ProgressStyleModel",
      "state": {
       "_model_module": "@jupyter-widgets/controls",
       "_model_module_version": "1.5.0",
       "_model_name": "ProgressStyleModel",
       "_view_count": null,
       "_view_module": "@jupyter-widgets/base",
       "_view_module_version": "1.2.0",
       "_view_name": "StyleView",
       "bar_color": null,
       "description_width": ""
      }
     },
     "375e3d9b80954bdab17e1826190349ba": {
      "model_module": "@jupyter-widgets/controls",
      "model_module_version": "1.5.0",
      "model_name": "HBoxModel",
      "state": {
       "_dom_classes": [],
       "_model_module": "@jupyter-widgets/controls",
       "_model_module_version": "1.5.0",
       "_model_name": "HBoxModel",
       "_view_count": null,
       "_view_module": "@jupyter-widgets/controls",
       "_view_module_version": "1.5.0",
       "_view_name": "HBoxView",
       "box_style": "",
       "children": [
        "IPY_MODEL_4fa01fa9ffd64cc6b9b76b3cf9267b7d",
        "IPY_MODEL_7b52ba595dba4e7da7c9276263e6f243",
        "IPY_MODEL_90d59b1352fb43059747c61e650059b5"
       ],
       "layout": "IPY_MODEL_9785da44beed4ca0b8dc96691af23091"
      }
     },
     "4739567741834a11a57f5519d4387543": {
      "model_module": "@jupyter-widgets/base",
      "model_module_version": "1.2.0",
      "model_name": "LayoutModel",
      "state": {
       "_model_module": "@jupyter-widgets/base",
       "_model_module_version": "1.2.0",
       "_model_name": "LayoutModel",
       "_view_count": null,
       "_view_module": "@jupyter-widgets/base",
       "_view_module_version": "1.2.0",
       "_view_name": "LayoutView",
       "align_content": null,
       "align_items": null,
       "align_self": null,
       "border": null,
       "bottom": null,
       "display": null,
       "flex": null,
       "flex_flow": null,
       "grid_area": null,
       "grid_auto_columns": null,
       "grid_auto_flow": null,
       "grid_auto_rows": null,
       "grid_column": null,
       "grid_gap": null,
       "grid_row": null,
       "grid_template_areas": null,
       "grid_template_columns": null,
       "grid_template_rows": null,
       "height": null,
       "justify_content": null,
       "justify_items": null,
       "left": null,
       "margin": null,
       "max_height": null,
       "max_width": null,
       "min_height": null,
       "min_width": null,
       "object_fit": null,
       "object_position": null,
       "order": null,
       "overflow": null,
       "overflow_x": null,
       "overflow_y": null,
       "padding": null,
       "right": null,
       "top": null,
       "visibility": null,
       "width": null
      }
     },
     "4b47e7f123664bcb9e459f0c2c3023d9": {
      "model_module": "@jupyter-widgets/controls",
      "model_module_version": "1.5.0",
      "model_name": "DescriptionStyleModel",
      "state": {
       "_model_module": "@jupyter-widgets/controls",
       "_model_module_version": "1.5.0",
       "_model_name": "DescriptionStyleModel",
       "_view_count": null,
       "_view_module": "@jupyter-widgets/base",
       "_view_module_version": "1.2.0",
       "_view_name": "StyleView",
       "description_width": ""
      }
     },
     "4df5a91e9c2444ad900389f6a58c00b2": {
      "model_module": "@jupyter-widgets/base",
      "model_module_version": "1.2.0",
      "model_name": "LayoutModel",
      "state": {
       "_model_module": "@jupyter-widgets/base",
       "_model_module_version": "1.2.0",
       "_model_name": "LayoutModel",
       "_view_count": null,
       "_view_module": "@jupyter-widgets/base",
       "_view_module_version": "1.2.0",
       "_view_name": "LayoutView",
       "align_content": null,
       "align_items": null,
       "align_self": null,
       "border": null,
       "bottom": null,
       "display": null,
       "flex": null,
       "flex_flow": null,
       "grid_area": null,
       "grid_auto_columns": null,
       "grid_auto_flow": null,
       "grid_auto_rows": null,
       "grid_column": null,
       "grid_gap": null,
       "grid_row": null,
       "grid_template_areas": null,
       "grid_template_columns": null,
       "grid_template_rows": null,
       "height": null,
       "justify_content": null,
       "justify_items": null,
       "left": null,
       "margin": null,
       "max_height": null,
       "max_width": null,
       "min_height": null,
       "min_width": null,
       "object_fit": null,
       "object_position": null,
       "order": null,
       "overflow": null,
       "overflow_x": null,
       "overflow_y": null,
       "padding": null,
       "right": null,
       "top": null,
       "visibility": null,
       "width": null
      }
     },
     "4f8015d3c0c741e492caf3b55dce6da0": {
      "model_module": "@jupyter-widgets/controls",
      "model_module_version": "1.5.0",
      "model_name": "ProgressStyleModel",
      "state": {
       "_model_module": "@jupyter-widgets/controls",
       "_model_module_version": "1.5.0",
       "_model_name": "ProgressStyleModel",
       "_view_count": null,
       "_view_module": "@jupyter-widgets/base",
       "_view_module_version": "1.2.0",
       "_view_name": "StyleView",
       "bar_color": null,
       "description_width": ""
      }
     },
     "4fa01fa9ffd64cc6b9b76b3cf9267b7d": {
      "model_module": "@jupyter-widgets/controls",
      "model_module_version": "1.5.0",
      "model_name": "HTMLModel",
      "state": {
       "_dom_classes": [],
       "_model_module": "@jupyter-widgets/controls",
       "_model_module_version": "1.5.0",
       "_model_name": "HTMLModel",
       "_view_count": null,
       "_view_module": "@jupyter-widgets/controls",
       "_view_module_version": "1.5.0",
       "_view_name": "HTMLView",
       "description": "",
       "description_tooltip": null,
       "layout": "IPY_MODEL_361f68ac7d994cfdbf89e4d6f58cd67b",
       "placeholder": "​",
       "style": "IPY_MODEL_4b47e7f123664bcb9e459f0c2c3023d9",
       "value": "100%"
      }
     },
     "5037350e035b48139d0d4f1d91cb5071": {
      "model_module": "@jupyter-widgets/controls",
      "model_module_version": "1.5.0",
      "model_name": "HTMLModel",
      "state": {
       "_dom_classes": [],
       "_model_module": "@jupyter-widgets/controls",
       "_model_module_version": "1.5.0",
       "_model_name": "HTMLModel",
       "_view_count": null,
       "_view_module": "@jupyter-widgets/controls",
       "_view_module_version": "1.5.0",
       "_view_name": "HTMLView",
       "description": "",
       "description_tooltip": null,
       "layout": "IPY_MODEL_ff86b9f03b3b42ccacc2323615ade04e",
       "placeholder": "​",
       "style": "IPY_MODEL_3615828f3fa943b1bb9d9ce646d836b7",
       "value": "100%"
      }
     },
     "510e1bb937b34b0a98f0b25b5b1a38ad": {
      "model_module": "@jupyter-widgets/controls",
      "model_module_version": "1.5.0",
      "model_name": "DescriptionStyleModel",
      "state": {
       "_model_module": "@jupyter-widgets/controls",
       "_model_module_version": "1.5.0",
       "_model_name": "DescriptionStyleModel",
       "_view_count": null,
       "_view_module": "@jupyter-widgets/base",
       "_view_module_version": "1.2.0",
       "_view_name": "StyleView",
       "description_width": ""
      }
     },
     "517d28a17e3d4d0b80b63d6f84138104": {
      "model_module": "@jupyter-widgets/controls",
      "model_module_version": "1.5.0",
      "model_name": "ProgressStyleModel",
      "state": {
       "_model_module": "@jupyter-widgets/controls",
       "_model_module_version": "1.5.0",
       "_model_name": "ProgressStyleModel",
       "_view_count": null,
       "_view_module": "@jupyter-widgets/base",
       "_view_module_version": "1.2.0",
       "_view_name": "StyleView",
       "bar_color": null,
       "description_width": ""
      }
     },
     "6bfde366221143929824d902e6c1ec75": {
      "model_module": "@jupyter-widgets/controls",
      "model_module_version": "1.5.0",
      "model_name": "DescriptionStyleModel",
      "state": {
       "_model_module": "@jupyter-widgets/controls",
       "_model_module_version": "1.5.0",
       "_model_name": "DescriptionStyleModel",
       "_view_count": null,
       "_view_module": "@jupyter-widgets/base",
       "_view_module_version": "1.2.0",
       "_view_name": "StyleView",
       "description_width": ""
      }
     },
     "7284d079894e4e4f971e5a55537aeabd": {
      "model_module": "@jupyter-widgets/controls",
      "model_module_version": "1.5.0",
      "model_name": "FloatProgressModel",
      "state": {
       "_dom_classes": [],
       "_model_module": "@jupyter-widgets/controls",
       "_model_module_version": "1.5.0",
       "_model_name": "FloatProgressModel",
       "_view_count": null,
       "_view_module": "@jupyter-widgets/controls",
       "_view_module_version": "1.5.0",
       "_view_name": "ProgressView",
       "bar_style": "success",
       "description": "",
       "description_tooltip": null,
       "layout": "IPY_MODEL_4739567741834a11a57f5519d4387543",
       "max": 10.0,
       "min": 0.0,
       "orientation": "horizontal",
       "style": "IPY_MODEL_4f8015d3c0c741e492caf3b55dce6da0",
       "value": 10.0
      }
     },
     "77eef53463f64a9c8a808a124a0c30fd": {
      "model_module": "@jupyter-widgets/controls",
      "model_module_version": "1.5.0",
      "model_name": "FloatProgressModel",
      "state": {
       "_dom_classes": [],
       "_model_module": "@jupyter-widgets/controls",
       "_model_module_version": "1.5.0",
       "_model_name": "FloatProgressModel",
       "_view_count": null,
       "_view_module": "@jupyter-widgets/controls",
       "_view_module_version": "1.5.0",
       "_view_name": "ProgressView",
       "bar_style": "success",
       "description": "",
       "description_tooltip": null,
       "layout": "IPY_MODEL_127372f5517c47c2b4fbf3e86b21025e",
       "max": 10.0,
       "min": 0.0,
       "orientation": "horizontal",
       "style": "IPY_MODEL_83a7a45eccb24e95b559fb2c56225b24",
       "value": 10.0
      }
     },
     "77f95507c4ad43ff936eb1b7aa027e9f": {
      "model_module": "@jupyter-widgets/controls",
      "model_module_version": "1.5.0",
      "model_name": "DescriptionStyleModel",
      "state": {
       "_model_module": "@jupyter-widgets/controls",
       "_model_module_version": "1.5.0",
       "_model_name": "DescriptionStyleModel",
       "_view_count": null,
       "_view_module": "@jupyter-widgets/base",
       "_view_module_version": "1.2.0",
       "_view_name": "StyleView",
       "description_width": ""
      }
     },
     "785ff36ec11b48b7b390997be80c9bb7": {
      "model_module": "@jupyter-widgets/controls",
      "model_module_version": "1.5.0",
      "model_name": "HBoxModel",
      "state": {
       "_dom_classes": [],
       "_model_module": "@jupyter-widgets/controls",
       "_model_module_version": "1.5.0",
       "_model_name": "HBoxModel",
       "_view_count": null,
       "_view_module": "@jupyter-widgets/controls",
       "_view_module_version": "1.5.0",
       "_view_name": "HBoxView",
       "box_style": "",
       "children": [
        "IPY_MODEL_30c43dc6efba4298ae2df3646349fd4d",
        "IPY_MODEL_77eef53463f64a9c8a808a124a0c30fd",
        "IPY_MODEL_f6d9c4daa8ff4072834763a93fc385e4"
       ],
       "layout": "IPY_MODEL_9efd1605dabe44fb9c57e0c2b6f14b92"
      }
     },
     "7b52ba595dba4e7da7c9276263e6f243": {
      "model_module": "@jupyter-widgets/controls",
      "model_module_version": "1.5.0",
      "model_name": "FloatProgressModel",
      "state": {
       "_dom_classes": [],
       "_model_module": "@jupyter-widgets/controls",
       "_model_module_version": "1.5.0",
       "_model_name": "FloatProgressModel",
       "_view_count": null,
       "_view_module": "@jupyter-widgets/controls",
       "_view_module_version": "1.5.0",
       "_view_name": "ProgressView",
       "bar_style": "success",
       "description": "",
       "description_tooltip": null,
       "layout": "IPY_MODEL_8348fd315eba448282fef8c70eb27c5f",
       "max": 10.0,
       "min": 0.0,
       "orientation": "horizontal",
       "style": "IPY_MODEL_325ec4baf3124d2ba3beb985a87d15dc",
       "value": 10.0
      }
     },
     "7c0495afe23c4649b10c1b1d9b15800f": {
      "model_module": "@jupyter-widgets/controls",
      "model_module_version": "1.5.0",
      "model_name": "DescriptionStyleModel",
      "state": {
       "_model_module": "@jupyter-widgets/controls",
       "_model_module_version": "1.5.0",
       "_model_name": "DescriptionStyleModel",
       "_view_count": null,
       "_view_module": "@jupyter-widgets/base",
       "_view_module_version": "1.2.0",
       "_view_name": "StyleView",
       "description_width": ""
      }
     },
     "7dedbdbbb4d1486383b530f978776a10": {
      "model_module": "@jupyter-widgets/controls",
      "model_module_version": "1.5.0",
      "model_name": "HBoxModel",
      "state": {
       "_dom_classes": [],
       "_model_module": "@jupyter-widgets/controls",
       "_model_module_version": "1.5.0",
       "_model_name": "HBoxModel",
       "_view_count": null,
       "_view_module": "@jupyter-widgets/controls",
       "_view_module_version": "1.5.0",
       "_view_name": "HBoxView",
       "box_style": "",
       "children": [
        "IPY_MODEL_1e584c29f8f140dda0ec2bb1b0657cb6",
        "IPY_MODEL_b95db4233a2d46b6b2fd1cdd42fd3c78",
        "IPY_MODEL_af11aa8dc8624d3ab6064e0df667f4dc"
       ],
       "layout": "IPY_MODEL_224cc33a50204cf48bf71154f2b8555c"
      }
     },
     "8348fd315eba448282fef8c70eb27c5f": {
      "model_module": "@jupyter-widgets/base",
      "model_module_version": "1.2.0",
      "model_name": "LayoutModel",
      "state": {
       "_model_module": "@jupyter-widgets/base",
       "_model_module_version": "1.2.0",
       "_model_name": "LayoutModel",
       "_view_count": null,
       "_view_module": "@jupyter-widgets/base",
       "_view_module_version": "1.2.0",
       "_view_name": "LayoutView",
       "align_content": null,
       "align_items": null,
       "align_self": null,
       "border": null,
       "bottom": null,
       "display": null,
       "flex": null,
       "flex_flow": null,
       "grid_area": null,
       "grid_auto_columns": null,
       "grid_auto_flow": null,
       "grid_auto_rows": null,
       "grid_column": null,
       "grid_gap": null,
       "grid_row": null,
       "grid_template_areas": null,
       "grid_template_columns": null,
       "grid_template_rows": null,
       "height": null,
       "justify_content": null,
       "justify_items": null,
       "left": null,
       "margin": null,
       "max_height": null,
       "max_width": null,
       "min_height": null,
       "min_width": null,
       "object_fit": null,
       "object_position": null,
       "order": null,
       "overflow": null,
       "overflow_x": null,
       "overflow_y": null,
       "padding": null,
       "right": null,
       "top": null,
       "visibility": null,
       "width": null
      }
     },
     "83a7a45eccb24e95b559fb2c56225b24": {
      "model_module": "@jupyter-widgets/controls",
      "model_module_version": "1.5.0",
      "model_name": "ProgressStyleModel",
      "state": {
       "_model_module": "@jupyter-widgets/controls",
       "_model_module_version": "1.5.0",
       "_model_name": "ProgressStyleModel",
       "_view_count": null,
       "_view_module": "@jupyter-widgets/base",
       "_view_module_version": "1.2.0",
       "_view_name": "StyleView",
       "bar_color": null,
       "description_width": ""
      }
     },
     "8a613021259448758db47b6b3099d9e9": {
      "model_module": "@jupyter-widgets/controls",
      "model_module_version": "1.5.0",
      "model_name": "FloatProgressModel",
      "state": {
       "_dom_classes": [],
       "_model_module": "@jupyter-widgets/controls",
       "_model_module_version": "1.5.0",
       "_model_name": "FloatProgressModel",
       "_view_count": null,
       "_view_module": "@jupyter-widgets/controls",
       "_view_module_version": "1.5.0",
       "_view_name": "ProgressView",
       "bar_style": "success",
       "description": "",
       "description_tooltip": null,
       "layout": "IPY_MODEL_36397822f8a247bc984d72606cfeb34f",
       "max": 10.0,
       "min": 0.0,
       "orientation": "horizontal",
       "style": "IPY_MODEL_517d28a17e3d4d0b80b63d6f84138104",
       "value": 10.0
      }
     },
     "90d59b1352fb43059747c61e650059b5": {
      "model_module": "@jupyter-widgets/controls",
      "model_module_version": "1.5.0",
      "model_name": "HTMLModel",
      "state": {
       "_dom_classes": [],
       "_model_module": "@jupyter-widgets/controls",
       "_model_module_version": "1.5.0",
       "_model_name": "HTMLModel",
       "_view_count": null,
       "_view_module": "@jupyter-widgets/controls",
       "_view_module_version": "1.5.0",
       "_view_name": "HTMLView",
       "description": "",
       "description_tooltip": null,
       "layout": "IPY_MODEL_0479d53802064cfbaf8e7444bc813d0a",
       "placeholder": "​",
       "style": "IPY_MODEL_7c0495afe23c4649b10c1b1d9b15800f",
       "value": " 10/10 [43:18&lt;00:00, 259.91s/it]"
      }
     },
     "928ee9ad769e4bcc80ed71f556305c1e": {
      "model_module": "@jupyter-widgets/base",
      "model_module_version": "1.2.0",
      "model_name": "LayoutModel",
      "state": {
       "_model_module": "@jupyter-widgets/base",
       "_model_module_version": "1.2.0",
       "_model_name": "LayoutModel",
       "_view_count": null,
       "_view_module": "@jupyter-widgets/base",
       "_view_module_version": "1.2.0",
       "_view_name": "LayoutView",
       "align_content": null,
       "align_items": null,
       "align_self": null,
       "border": null,
       "bottom": null,
       "display": null,
       "flex": null,
       "flex_flow": null,
       "grid_area": null,
       "grid_auto_columns": null,
       "grid_auto_flow": null,
       "grid_auto_rows": null,
       "grid_column": null,
       "grid_gap": null,
       "grid_row": null,
       "grid_template_areas": null,
       "grid_template_columns": null,
       "grid_template_rows": null,
       "height": null,
       "justify_content": null,
       "justify_items": null,
       "left": null,
       "margin": null,
       "max_height": null,
       "max_width": null,
       "min_height": null,
       "min_width": null,
       "object_fit": null,
       "object_position": null,
       "order": null,
       "overflow": null,
       "overflow_x": null,
       "overflow_y": null,
       "padding": null,
       "right": null,
       "top": null,
       "visibility": null,
       "width": null
      }
     },
     "9785da44beed4ca0b8dc96691af23091": {
      "model_module": "@jupyter-widgets/base",
      "model_module_version": "1.2.0",
      "model_name": "LayoutModel",
      "state": {
       "_model_module": "@jupyter-widgets/base",
       "_model_module_version": "1.2.0",
       "_model_name": "LayoutModel",
       "_view_count": null,
       "_view_module": "@jupyter-widgets/base",
       "_view_module_version": "1.2.0",
       "_view_name": "LayoutView",
       "align_content": null,
       "align_items": null,
       "align_self": null,
       "border": null,
       "bottom": null,
       "display": null,
       "flex": null,
       "flex_flow": null,
       "grid_area": null,
       "grid_auto_columns": null,
       "grid_auto_flow": null,
       "grid_auto_rows": null,
       "grid_column": null,
       "grid_gap": null,
       "grid_row": null,
       "grid_template_areas": null,
       "grid_template_columns": null,
       "grid_template_rows": null,
       "height": null,
       "justify_content": null,
       "justify_items": null,
       "left": null,
       "margin": null,
       "max_height": null,
       "max_width": null,
       "min_height": null,
       "min_width": null,
       "object_fit": null,
       "object_position": null,
       "order": null,
       "overflow": null,
       "overflow_x": null,
       "overflow_y": null,
       "padding": null,
       "right": null,
       "top": null,
       "visibility": null,
       "width": null
      }
     },
     "9efd1605dabe44fb9c57e0c2b6f14b92": {
      "model_module": "@jupyter-widgets/base",
      "model_module_version": "1.2.0",
      "model_name": "LayoutModel",
      "state": {
       "_model_module": "@jupyter-widgets/base",
       "_model_module_version": "1.2.0",
       "_model_name": "LayoutModel",
       "_view_count": null,
       "_view_module": "@jupyter-widgets/base",
       "_view_module_version": "1.2.0",
       "_view_name": "LayoutView",
       "align_content": null,
       "align_items": null,
       "align_self": null,
       "border": null,
       "bottom": null,
       "display": null,
       "flex": null,
       "flex_flow": null,
       "grid_area": null,
       "grid_auto_columns": null,
       "grid_auto_flow": null,
       "grid_auto_rows": null,
       "grid_column": null,
       "grid_gap": null,
       "grid_row": null,
       "grid_template_areas": null,
       "grid_template_columns": null,
       "grid_template_rows": null,
       "height": null,
       "justify_content": null,
       "justify_items": null,
       "left": null,
       "margin": null,
       "max_height": null,
       "max_width": null,
       "min_height": null,
       "min_width": null,
       "object_fit": null,
       "object_position": null,
       "order": null,
       "overflow": null,
       "overflow_x": null,
       "overflow_y": null,
       "padding": null,
       "right": null,
       "top": null,
       "visibility": null,
       "width": null
      }
     },
     "a852305e2c294760ab6c9ddc55d25b53": {
      "model_module": "@jupyter-widgets/base",
      "model_module_version": "1.2.0",
      "model_name": "LayoutModel",
      "state": {
       "_model_module": "@jupyter-widgets/base",
       "_model_module_version": "1.2.0",
       "_model_name": "LayoutModel",
       "_view_count": null,
       "_view_module": "@jupyter-widgets/base",
       "_view_module_version": "1.2.0",
       "_view_name": "LayoutView",
       "align_content": null,
       "align_items": null,
       "align_self": null,
       "border": null,
       "bottom": null,
       "display": null,
       "flex": null,
       "flex_flow": null,
       "grid_area": null,
       "grid_auto_columns": null,
       "grid_auto_flow": null,
       "grid_auto_rows": null,
       "grid_column": null,
       "grid_gap": null,
       "grid_row": null,
       "grid_template_areas": null,
       "grid_template_columns": null,
       "grid_template_rows": null,
       "height": null,
       "justify_content": null,
       "justify_items": null,
       "left": null,
       "margin": null,
       "max_height": null,
       "max_width": null,
       "min_height": null,
       "min_width": null,
       "object_fit": null,
       "object_position": null,
       "order": null,
       "overflow": null,
       "overflow_x": null,
       "overflow_y": null,
       "padding": null,
       "right": null,
       "top": null,
       "visibility": null,
       "width": null
      }
     },
     "ab41fc8bd6a54d41bba6b74fed1ce9fe": {
      "model_module": "@jupyter-widgets/controls",
      "model_module_version": "1.5.0",
      "model_name": "HBoxModel",
      "state": {
       "_dom_classes": [],
       "_model_module": "@jupyter-widgets/controls",
       "_model_module_version": "1.5.0",
       "_model_name": "HBoxModel",
       "_view_count": null,
       "_view_module": "@jupyter-widgets/controls",
       "_view_module_version": "1.5.0",
       "_view_name": "HBoxView",
       "box_style": "",
       "children": [
        "IPY_MODEL_5037350e035b48139d0d4f1d91cb5071",
        "IPY_MODEL_7284d079894e4e4f971e5a55537aeabd",
        "IPY_MODEL_097fe6d307eb4a1c93fdb9b7293062f2"
       ],
       "layout": "IPY_MODEL_0413a9b48c83446f842224adda663682"
      }
     },
     "af11aa8dc8624d3ab6064e0df667f4dc": {
      "model_module": "@jupyter-widgets/controls",
      "model_module_version": "1.5.0",
      "model_name": "HTMLModel",
      "state": {
       "_dom_classes": [],
       "_model_module": "@jupyter-widgets/controls",
       "_model_module_version": "1.5.0",
       "_model_name": "HTMLModel",
       "_view_count": null,
       "_view_module": "@jupyter-widgets/controls",
       "_view_module_version": "1.5.0",
       "_view_name": "HTMLView",
       "description": "",
       "description_tooltip": null,
       "layout": "IPY_MODEL_d7215104ea834cb694e545378cc0b877",
       "placeholder": "​",
       "style": "IPY_MODEL_c300dea8eb8348369fac5457a3342c31",
       "value": " 21.4M/21.4M [00:00&lt;00:00, 51.2MB/s]"
      }
     },
     "af462d86a21440fda2108c4b2413c36a": {
      "model_module": "@jupyter-widgets/controls",
      "model_module_version": "1.5.0",
      "model_name": "ProgressStyleModel",
      "state": {
       "_model_module": "@jupyter-widgets/controls",
       "_model_module_version": "1.5.0",
       "_model_name": "ProgressStyleModel",
       "_view_count": null,
       "_view_module": "@jupyter-widgets/base",
       "_view_module_version": "1.2.0",
       "_view_name": "StyleView",
       "bar_color": null,
       "description_width": ""
      }
     },
     "af82bc7a21c141ac91d094d711201f02": {
      "model_module": "@jupyter-widgets/base",
      "model_module_version": "1.2.0",
      "model_name": "LayoutModel",
      "state": {
       "_model_module": "@jupyter-widgets/base",
       "_model_module_version": "1.2.0",
       "_model_name": "LayoutModel",
       "_view_count": null,
       "_view_module": "@jupyter-widgets/base",
       "_view_module_version": "1.2.0",
       "_view_name": "LayoutView",
       "align_content": null,
       "align_items": null,
       "align_self": null,
       "border": null,
       "bottom": null,
       "display": null,
       "flex": null,
       "flex_flow": null,
       "grid_area": null,
       "grid_auto_columns": null,
       "grid_auto_flow": null,
       "grid_auto_rows": null,
       "grid_column": null,
       "grid_gap": null,
       "grid_row": null,
       "grid_template_areas": null,
       "grid_template_columns": null,
       "grid_template_rows": null,
       "height": null,
       "justify_content": null,
       "justify_items": null,
       "left": null,
       "margin": null,
       "max_height": null,
       "max_width": null,
       "min_height": null,
       "min_width": null,
       "object_fit": null,
       "object_position": null,
       "order": null,
       "overflow": null,
       "overflow_x": null,
       "overflow_y": null,
       "padding": null,
       "right": null,
       "top": null,
       "visibility": null,
       "width": null
      }
     },
     "b95db4233a2d46b6b2fd1cdd42fd3c78": {
      "model_module": "@jupyter-widgets/controls",
      "model_module_version": "1.5.0",
      "model_name": "FloatProgressModel",
      "state": {
       "_dom_classes": [],
       "_model_module": "@jupyter-widgets/controls",
       "_model_module_version": "1.5.0",
       "_model_name": "FloatProgressModel",
       "_view_count": null,
       "_view_module": "@jupyter-widgets/controls",
       "_view_module_version": "1.5.0",
       "_view_name": "ProgressView",
       "bar_style": "success",
       "description": "",
       "description_tooltip": null,
       "layout": "IPY_MODEL_eca347fed76945daa43a4f478ec5867c",
       "max": 21355344.0,
       "min": 0.0,
       "orientation": "horizontal",
       "style": "IPY_MODEL_af462d86a21440fda2108c4b2413c36a",
       "value": 21355344.0
      }
     },
     "baba3ceedea14d54aa273ead1e4de9fb": {
      "model_module": "@jupyter-widgets/controls",
      "model_module_version": "1.5.0",
      "model_name": "HTMLModel",
      "state": {
       "_dom_classes": [],
       "_model_module": "@jupyter-widgets/controls",
       "_model_module_version": "1.5.0",
       "_model_name": "HTMLModel",
       "_view_count": null,
       "_view_module": "@jupyter-widgets/controls",
       "_view_module_version": "1.5.0",
       "_view_name": "HTMLView",
       "description": "",
       "description_tooltip": null,
       "layout": "IPY_MODEL_fecd19b67a2642f8bb624dece3bb584c",
       "placeholder": "​",
       "style": "IPY_MODEL_1e194fe6355a4dd8b76f184cccb4107b",
       "value": "100%"
      }
     },
     "bc47939027c34a4595b6ddc0bc954069": {
      "model_module": "@jupyter-widgets/controls",
      "model_module_version": "1.5.0",
      "model_name": "FloatProgressModel",
      "state": {
       "_dom_classes": [],
       "_model_module": "@jupyter-widgets/controls",
       "_model_module_version": "1.5.0",
       "_model_name": "FloatProgressModel",
       "_view_count": null,
       "_view_module": "@jupyter-widgets/controls",
       "_view_module_version": "1.5.0",
       "_view_name": "ProgressView",
       "bar_style": "success",
       "description": "",
       "description_tooltip": null,
       "layout": "IPY_MODEL_a852305e2c294760ab6c9ddc55d25b53",
       "max": 10.0,
       "min": 0.0,
       "orientation": "horizontal",
       "style": "IPY_MODEL_3748249574af4a8fa733385412834aaf",
       "value": 10.0
      }
     },
     "c300dea8eb8348369fac5457a3342c31": {
      "model_module": "@jupyter-widgets/controls",
      "model_module_version": "1.5.0",
      "model_name": "DescriptionStyleModel",
      "state": {
       "_model_module": "@jupyter-widgets/controls",
       "_model_module_version": "1.5.0",
       "_model_name": "DescriptionStyleModel",
       "_view_count": null,
       "_view_module": "@jupyter-widgets/base",
       "_view_module_version": "1.2.0",
       "_view_name": "StyleView",
       "description_width": ""
      }
     },
     "cb26ae02394d4fb485e78712f9994592": {
      "model_module": "@jupyter-widgets/base",
      "model_module_version": "1.2.0",
      "model_name": "LayoutModel",
      "state": {
       "_model_module": "@jupyter-widgets/base",
       "_model_module_version": "1.2.0",
       "_model_name": "LayoutModel",
       "_view_count": null,
       "_view_module": "@jupyter-widgets/base",
       "_view_module_version": "1.2.0",
       "_view_name": "LayoutView",
       "align_content": null,
       "align_items": null,
       "align_self": null,
       "border": null,
       "bottom": null,
       "display": null,
       "flex": null,
       "flex_flow": null,
       "grid_area": null,
       "grid_auto_columns": null,
       "grid_auto_flow": null,
       "grid_auto_rows": null,
       "grid_column": null,
       "grid_gap": null,
       "grid_row": null,
       "grid_template_areas": null,
       "grid_template_columns": null,
       "grid_template_rows": null,
       "height": null,
       "justify_content": null,
       "justify_items": null,
       "left": null,
       "margin": null,
       "max_height": null,
       "max_width": null,
       "min_height": null,
       "min_width": null,
       "object_fit": null,
       "object_position": null,
       "order": null,
       "overflow": null,
       "overflow_x": null,
       "overflow_y": null,
       "padding": null,
       "right": null,
       "top": null,
       "visibility": null,
       "width": null
      }
     },
     "d5e3a424405b475f8baf2dfa32eec879": {
      "model_module": "@jupyter-widgets/base",
      "model_module_version": "1.2.0",
      "model_name": "LayoutModel",
      "state": {
       "_model_module": "@jupyter-widgets/base",
       "_model_module_version": "1.2.0",
       "_model_name": "LayoutModel",
       "_view_count": null,
       "_view_module": "@jupyter-widgets/base",
       "_view_module_version": "1.2.0",
       "_view_name": "LayoutView",
       "align_content": null,
       "align_items": null,
       "align_self": null,
       "border": null,
       "bottom": null,
       "display": null,
       "flex": null,
       "flex_flow": null,
       "grid_area": null,
       "grid_auto_columns": null,
       "grid_auto_flow": null,
       "grid_auto_rows": null,
       "grid_column": null,
       "grid_gap": null,
       "grid_row": null,
       "grid_template_areas": null,
       "grid_template_columns": null,
       "grid_template_rows": null,
       "height": null,
       "justify_content": null,
       "justify_items": null,
       "left": null,
       "margin": null,
       "max_height": null,
       "max_width": null,
       "min_height": null,
       "min_width": null,
       "object_fit": null,
       "object_position": null,
       "order": null,
       "overflow": null,
       "overflow_x": null,
       "overflow_y": null,
       "padding": null,
       "right": null,
       "top": null,
       "visibility": null,
       "width": null
      }
     },
     "d7215104ea834cb694e545378cc0b877": {
      "model_module": "@jupyter-widgets/base",
      "model_module_version": "1.2.0",
      "model_name": "LayoutModel",
      "state": {
       "_model_module": "@jupyter-widgets/base",
       "_model_module_version": "1.2.0",
       "_model_name": "LayoutModel",
       "_view_count": null,
       "_view_module": "@jupyter-widgets/base",
       "_view_module_version": "1.2.0",
       "_view_name": "LayoutView",
       "align_content": null,
       "align_items": null,
       "align_self": null,
       "border": null,
       "bottom": null,
       "display": null,
       "flex": null,
       "flex_flow": null,
       "grid_area": null,
       "grid_auto_columns": null,
       "grid_auto_flow": null,
       "grid_auto_rows": null,
       "grid_column": null,
       "grid_gap": null,
       "grid_row": null,
       "grid_template_areas": null,
       "grid_template_columns": null,
       "grid_template_rows": null,
       "height": null,
       "justify_content": null,
       "justify_items": null,
       "left": null,
       "margin": null,
       "max_height": null,
       "max_width": null,
       "min_height": null,
       "min_width": null,
       "object_fit": null,
       "object_position": null,
       "order": null,
       "overflow": null,
       "overflow_x": null,
       "overflow_y": null,
       "padding": null,
       "right": null,
       "top": null,
       "visibility": null,
       "width": null
      }
     },
     "d79b4c6626104b5989f45228bbcce78e": {
      "model_module": "@jupyter-widgets/controls",
      "model_module_version": "1.5.0",
      "model_name": "HTMLModel",
      "state": {
       "_dom_classes": [],
       "_model_module": "@jupyter-widgets/controls",
       "_model_module_version": "1.5.0",
       "_model_name": "HTMLModel",
       "_view_count": null,
       "_view_module": "@jupyter-widgets/controls",
       "_view_module_version": "1.5.0",
       "_view_name": "HTMLView",
       "description": "",
       "description_tooltip": null,
       "layout": "IPY_MODEL_4df5a91e9c2444ad900389f6a58c00b2",
       "placeholder": "​",
       "style": "IPY_MODEL_e6009226b5604950ab6f6f85dc1a7607",
       "value": " 10/10 [43:17&lt;00:00, 259.26s/it]"
      }
     },
     "dcaa2b6a44664374944adba1425b92a0": {
      "model_module": "@jupyter-widgets/base",
      "model_module_version": "1.2.0",
      "model_name": "LayoutModel",
      "state": {
       "_model_module": "@jupyter-widgets/base",
       "_model_module_version": "1.2.0",
       "_model_name": "LayoutModel",
       "_view_count": null,
       "_view_module": "@jupyter-widgets/base",
       "_view_module_version": "1.2.0",
       "_view_name": "LayoutView",
       "align_content": null,
       "align_items": null,
       "align_self": null,
       "border": null,
       "bottom": null,
       "display": null,
       "flex": null,
       "flex_flow": null,
       "grid_area": null,
       "grid_auto_columns": null,
       "grid_auto_flow": null,
       "grid_auto_rows": null,
       "grid_column": null,
       "grid_gap": null,
       "grid_row": null,
       "grid_template_areas": null,
       "grid_template_columns": null,
       "grid_template_rows": null,
       "height": null,
       "justify_content": null,
       "justify_items": null,
       "left": null,
       "margin": null,
       "max_height": null,
       "max_width": null,
       "min_height": null,
       "min_width": null,
       "object_fit": null,
       "object_position": null,
       "order": null,
       "overflow": null,
       "overflow_x": null,
       "overflow_y": null,
       "padding": null,
       "right": null,
       "top": null,
       "visibility": null,
       "width": null
      }
     },
     "e043108bab9c46f4a43736cb78c89891": {
      "model_module": "@jupyter-widgets/controls",
      "model_module_version": "1.5.0",
      "model_name": "DescriptionStyleModel",
      "state": {
       "_model_module": "@jupyter-widgets/controls",
       "_model_module_version": "1.5.0",
       "_model_name": "DescriptionStyleModel",
       "_view_count": null,
       "_view_module": "@jupyter-widgets/base",
       "_view_module_version": "1.2.0",
       "_view_name": "StyleView",
       "description_width": ""
      }
     },
     "e6009226b5604950ab6f6f85dc1a7607": {
      "model_module": "@jupyter-widgets/controls",
      "model_module_version": "1.5.0",
      "model_name": "DescriptionStyleModel",
      "state": {
       "_model_module": "@jupyter-widgets/controls",
       "_model_module_version": "1.5.0",
       "_model_name": "DescriptionStyleModel",
       "_view_count": null,
       "_view_module": "@jupyter-widgets/base",
       "_view_module_version": "1.2.0",
       "_view_name": "StyleView",
       "description_width": ""
      }
     },
     "eca347fed76945daa43a4f478ec5867c": {
      "model_module": "@jupyter-widgets/base",
      "model_module_version": "1.2.0",
      "model_name": "LayoutModel",
      "state": {
       "_model_module": "@jupyter-widgets/base",
       "_model_module_version": "1.2.0",
       "_model_name": "LayoutModel",
       "_view_count": null,
       "_view_module": "@jupyter-widgets/base",
       "_view_module_version": "1.2.0",
       "_view_name": "LayoutView",
       "align_content": null,
       "align_items": null,
       "align_self": null,
       "border": null,
       "bottom": null,
       "display": null,
       "flex": null,
       "flex_flow": null,
       "grid_area": null,
       "grid_auto_columns": null,
       "grid_auto_flow": null,
       "grid_auto_rows": null,
       "grid_column": null,
       "grid_gap": null,
       "grid_row": null,
       "grid_template_areas": null,
       "grid_template_columns": null,
       "grid_template_rows": null,
       "height": null,
       "justify_content": null,
       "justify_items": null,
       "left": null,
       "margin": null,
       "max_height": null,
       "max_width": null,
       "min_height": null,
       "min_width": null,
       "object_fit": null,
       "object_position": null,
       "order": null,
       "overflow": null,
       "overflow_x": null,
       "overflow_y": null,
       "padding": null,
       "right": null,
       "top": null,
       "visibility": null,
       "width": null
      }
     },
     "ee3ffcb3837741e5805f63dd41993313": {
      "model_module": "@jupyter-widgets/controls",
      "model_module_version": "1.5.0",
      "model_name": "HTMLModel",
      "state": {
       "_dom_classes": [],
       "_model_module": "@jupyter-widgets/controls",
       "_model_module_version": "1.5.0",
       "_model_name": "HTMLModel",
       "_view_count": null,
       "_view_module": "@jupyter-widgets/controls",
       "_view_module_version": "1.5.0",
       "_view_name": "HTMLView",
       "description": "",
       "description_tooltip": null,
       "layout": "IPY_MODEL_dcaa2b6a44664374944adba1425b92a0",
       "placeholder": "​",
       "style": "IPY_MODEL_e043108bab9c46f4a43736cb78c89891",
       "value": " 10/10 [43:11&lt;00:00, 259.02s/it]"
      }
     },
     "f6d9c4daa8ff4072834763a93fc385e4": {
      "model_module": "@jupyter-widgets/controls",
      "model_module_version": "1.5.0",
      "model_name": "HTMLModel",
      "state": {
       "_dom_classes": [],
       "_model_module": "@jupyter-widgets/controls",
       "_model_module_version": "1.5.0",
       "_model_name": "HTMLModel",
       "_view_count": null,
       "_view_module": "@jupyter-widgets/controls",
       "_view_module_version": "1.5.0",
       "_view_name": "HTMLView",
       "description": "",
       "description_tooltip": null,
       "layout": "IPY_MODEL_1b79e7b7978d4f6ead1275f7a84868ed",
       "placeholder": "​",
       "style": "IPY_MODEL_6bfde366221143929824d902e6c1ec75",
       "value": " 10/10 [43:08&lt;00:00, 259.28s/it]"
      }
     },
     "fecd19b67a2642f8bb624dece3bb584c": {
      "model_module": "@jupyter-widgets/base",
      "model_module_version": "1.2.0",
      "model_name": "LayoutModel",
      "state": {
       "_model_module": "@jupyter-widgets/base",
       "_model_module_version": "1.2.0",
       "_model_name": "LayoutModel",
       "_view_count": null,
       "_view_module": "@jupyter-widgets/base",
       "_view_module_version": "1.2.0",
       "_view_name": "LayoutView",
       "align_content": null,
       "align_items": null,
       "align_self": null,
       "border": null,
       "bottom": null,
       "display": null,
       "flex": null,
       "flex_flow": null,
       "grid_area": null,
       "grid_auto_columns": null,
       "grid_auto_flow": null,
       "grid_auto_rows": null,
       "grid_column": null,
       "grid_gap": null,
       "grid_row": null,
       "grid_template_areas": null,
       "grid_template_columns": null,
       "grid_template_rows": null,
       "height": null,
       "justify_content": null,
       "justify_items": null,
       "left": null,
       "margin": null,
       "max_height": null,
       "max_width": null,
       "min_height": null,
       "min_width": null,
       "object_fit": null,
       "object_position": null,
       "order": null,
       "overflow": null,
       "overflow_x": null,
       "overflow_y": null,
       "padding": null,
       "right": null,
       "top": null,
       "visibility": null,
       "width": null
      }
     },
     "ff86b9f03b3b42ccacc2323615ade04e": {
      "model_module": "@jupyter-widgets/base",
      "model_module_version": "1.2.0",
      "model_name": "LayoutModel",
      "state": {
       "_model_module": "@jupyter-widgets/base",
       "_model_module_version": "1.2.0",
       "_model_name": "LayoutModel",
       "_view_count": null,
       "_view_module": "@jupyter-widgets/base",
       "_view_module_version": "1.2.0",
       "_view_name": "LayoutView",
       "align_content": null,
       "align_items": null,
       "align_self": null,
       "border": null,
       "bottom": null,
       "display": null,
       "flex": null,
       "flex_flow": null,
       "grid_area": null,
       "grid_auto_columns": null,
       "grid_auto_flow": null,
       "grid_auto_rows": null,
       "grid_column": null,
       "grid_gap": null,
       "grid_row": null,
       "grid_template_areas": null,
       "grid_template_columns": null,
       "grid_template_rows": null,
       "height": null,
       "justify_content": null,
       "justify_items": null,
       "left": null,
       "margin": null,
       "max_height": null,
       "max_width": null,
       "min_height": null,
       "min_width": null,
       "object_fit": null,
       "object_position": null,
       "order": null,
       "overflow": null,
       "overflow_x": null,
       "overflow_y": null,
       "padding": null,
       "right": null,
       "top": null,
       "visibility": null,
       "width": null
      }
     },
     "ffdc6653135343f987bfba586dcdd122": {
      "model_module": "@jupyter-widgets/controls",
      "model_module_version": "1.5.0",
      "model_name": "HBoxModel",
      "state": {
       "_dom_classes": [],
       "_model_module": "@jupyter-widgets/controls",
       "_model_module_version": "1.5.0",
       "_model_name": "HBoxModel",
       "_view_count": null,
       "_view_module": "@jupyter-widgets/controls",
       "_view_module_version": "1.5.0",
       "_view_name": "HBoxView",
       "box_style": "",
       "children": [
        "IPY_MODEL_2d93ed846564434fbbf86b4533578d1d",
        "IPY_MODEL_bc47939027c34a4595b6ddc0bc954069",
        "IPY_MODEL_d79b4c6626104b5989f45228bbcce78e"
       ],
       "layout": "IPY_MODEL_cb26ae02394d4fb485e78712f9994592"
      }
     }
    },
    "version_major": 2,
    "version_minor": 0
   }
  }
 },
 "nbformat": 4,
 "nbformat_minor": 5
}
